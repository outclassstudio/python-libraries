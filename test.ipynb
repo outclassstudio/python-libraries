{
 "cells": [
  {
   "cell_type": "code",
   "execution_count": 2,
   "metadata": {},
   "outputs": [
    {
     "name": "stdout",
     "output_type": "stream",
     "text": [
      "Setting complete.\n"
     ]
    }
   ],
   "source": [
    "import cv2\n",
    "import numpy as np\n",
    "DEFAULT_IMAGE_PATH = \"./images/dog.jpg\"\n",
    "print(\"Setting complete.\")"
   ]
  },
  {
   "cell_type": "code",
   "execution_count": 4,
   "metadata": {},
   "outputs": [],
   "source": [
    "img = cv2.imread(DEFAULT_IMAGE_PATH)\n",
    "name = \"Canny\"\n",
    "cv2.namedWindow(name)\n",
    "\n",
    "cv2.createTrackbar(\"thres1\", name, 50, 255, lambda x:x)\n",
    "cv2.createTrackbar(\"thres2\", name, 150, 255, lambda x:x)\n",
    "\n",
    "while True:\n",
    "  thres1 = cv2.getTrackbarPos(\"thres1\", name)\n",
    "  thres2 = cv2.getTrackbarPos(\"thres2\", name)\n",
    "  dst = cv2.Canny(img, thres1, thres2)  \n",
    "  cv2.imshow(name, dst)\n",
    "\n",
    "  if cv2.waitKey(1) == ord(\"q\"):\n",
    "    break\n",
    "\n",
    "cv2.destroyAllWindows()"
   ]
  },
  {
   "cell_type": "code",
   "execution_count": 5,
   "metadata": {},
   "outputs": [],
   "source": [
    "img = cv2.imread(DEFAULT_IMAGE_PATH)\n",
    "copied = img.copy()\n",
    "gray = cv2.cvtColor(img, cv2.COLOR_BGR2GRAY)\n",
    "ret, binary = cv2.threshold(gray, -1, 255, cv2.THRESH_BINARY | cv2.THRESH_OTSU)\n",
    "\n",
    "contours, hierachy = cv2.findContours(binary, cv2.RETR_LIST, cv2.CHAIN_APPROX_NONE)\n",
    "result = cv2.drawContours(copied, contours, -1, (0,255,255), 1, cv2.LINE_AA)\n",
    "cv2.imshow(\"result\", result)\n",
    "\n",
    "cv2.waitKey(0)\n",
    "cv2.destroyAllWindows()"
   ]
  },
  {
   "cell_type": "code",
   "execution_count": 10,
   "metadata": {},
   "outputs": [],
   "source": [
    "img = cv2.imread(DEFAULT_IMAGE_PATH)\n",
    "copied = img.copy()\n",
    "gray = cv2.cvtColor(img, cv2.COLOR_BGR2GRAY)\n",
    "ret, binary = cv2.threshold(gray, -1, 255, cv2.THRESH_BINARY | cv2.THRESH_OTSU)\n",
    "\n",
    "contours, hierachy = cv2.findContours(binary, cv2.RETR_LIST, cv2.CHAIN_APPROX_NONE)\n",
    "\n",
    "for ctr in contours:\n",
    "  if cv2.contourArea(ctr) > 500:\n",
    "    x, y, width, height = cv2.boundingRect(ctr)\n",
    "    cv2.rectangle(copied, (x,y), (x+width, y+height), (0,255,0), 1, cv2.LINE_AA)\n",
    "\n",
    "cv2.imshow(\"result\", copied)\n",
    "cv2.waitKey(0)\n",
    "cv2.destroyAllWindows()"
   ]
  }
 ],
 "metadata": {
  "kernelspec": {
   "display_name": "cv_env",
   "language": "python",
   "name": "python3"
  },
  "language_info": {
   "codemirror_mode": {
    "name": "ipython",
    "version": 3
   },
   "file_extension": ".py",
   "mimetype": "text/x-python",
   "name": "python",
   "nbconvert_exporter": "python",
   "pygments_lexer": "ipython3",
   "version": "3.13.1"
  }
 },
 "nbformat": 4,
 "nbformat_minor": 2
}
