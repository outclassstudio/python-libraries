{
 "cells": [
  {
   "cell_type": "code",
   "execution_count": 8,
   "metadata": {},
   "outputs": [
    {
     "name": "stdout",
     "output_type": "stream",
     "text": [
      "setting complete\n"
     ]
    }
   ],
   "source": [
    "import cv2\n",
    "import numpy as np\n",
    "DEFAUL_IMAGE_PATH = \"./images/dog.jpg\"\n",
    "DEFAUL_VIDEO_PATH = \"./videos/dog.mp4\"\n",
    "print(\"setting complete\")"
   ]
  },
  {
   "cell_type": "code",
   "execution_count": 1,
   "metadata": {},
   "outputs": [],
   "source": [
    "# 이미지 출력\n",
    "img = cv2.imread(\"./images/dog_png.png\")\n",
    "cv2.imshow(\"img\", img)\n",
    "cv2.waitKey(0)\n",
    "cv2.destroyAllWindows()"
   ]
  },
  {
   "cell_type": "code",
   "execution_count": 11,
   "metadata": {},
   "outputs": [],
   "source": [
    "# 비디오 출력\n",
    "cap = cv2.VideoCapture(\"./videos/dog.mp4\")\n",
    "fps = cap.get(cv2.CAP_PROP_FPS)\n",
    "\n",
    "while cap.isOpened():\n",
    "  ret, frame = cap.read()\n",
    "\n",
    "  if not ret:\n",
    "    break;\n",
    "\n",
    "  cv2.imshow(\"videos\", frame)\n",
    "\n",
    "  if cv2.waitKey(int(1000//fps)) == ord(\"q\"):\n",
    "    break;\n",
    "\n",
    "cap.release()\n",
    "cv2.destroyAllWindows()"
   ]
  },
  {
   "cell_type": "code",
   "execution_count": 10,
   "metadata": {},
   "outputs": [],
   "source": [
    "# 카메라 출력\n",
    "cap = cv2.VideoCapture(0)\n",
    "\n",
    "if not cap.isOpened():\n",
    "  exit()\n",
    "\n",
    "while True:\n",
    "  ret, frame = cap.read()\n",
    "\n",
    "  if not ret:\n",
    "    break;\n",
    "\n",
    "  cv2.imshow(\"play\", frame)\n",
    "  \n",
    "  if cv2.waitKey(1) == ord(\"q\"):\n",
    "    break\n",
    "\n",
    "cap.release()\n",
    "cv2.destroyAllWindows()"
   ]
  },
  {
   "cell_type": "code",
   "execution_count": 24,
   "metadata": {},
   "outputs": [],
   "source": [
    "# 영역 색칠\n",
    "img = np.zeros((460, 640, 3), dtype=np.uint8)\n",
    "img[0:100, 0:200] = (255,255,255)\n",
    "cv2.line(img, (640,460), (0,0), (0,255,255),10,cv2.LINE_8)\n",
    "cv2.imshow(\"img\", img)\n",
    "cv2.waitKey(0)\n",
    "cv2.destroyAllWindows()"
   ]
  },
  {
   "cell_type": "code",
   "execution_count": null,
   "metadata": {},
   "outputs": [],
   "source": [
    "# 원 그리기\n",
    "canv = np.zeros((460, 640, 3), dtype=np.uint8)\n",
    "\n",
    "cv2.circle(canv,(320,230),30,(0, 127, 224),10,cv2.LINE_AA)\n",
    "cv2.imshow(\"circle\", canv)\n",
    "cv2.waitKey(0)\n",
    "cv2.destroyAllWindows()"
   ]
  },
  {
   "cell_type": "code",
   "execution_count": 7,
   "metadata": {},
   "outputs": [],
   "source": [
    "# 사각형 그리기\n",
    "canvas = np.zeros((460, 640, 3), dtype=np.uint8)\n",
    "\n",
    "cv2.rectangle(canvas,(100,100),(200,200),(224, 127, 0),10,cv2.LINE_AA)\n",
    "cv2.rectangle(canvas,(200,200),(300,300),(224, 127, 0),cv2.FILLED,cv2.LINE_AA)\n",
    "cv2.imshow(\"circle\", canvas)\n",
    "cv2.waitKey(0)\n",
    "cv2.destroyAllWindows()"
   ]
  },
  {
   "cell_type": "code",
   "execution_count": null,
   "metadata": {},
   "outputs": [],
   "source": [
    "# 다각형 그리기\n",
    "canvas = np.zeros((460, 640, 3), dtype=np.uint8)\n",
    "\n",
    "pts1 = np.array([[[100, 100],[150, 50],[200,100]]])\n",
    "pts2 = np.array([[[200, 100],[250, 50],[300,100]]])\n",
    "COLOR = (235, 224, 26)\n",
    "cv2.polylines(canvas, pts1, True, COLOR, 5, cv2.LINE_AA)\n",
    "cv2.fillPoly(canvas, pts2, COLOR, cv2.LINE_AA)\n",
    "cv2.imshow(\"Triangle\", canvas)\n",
    "cv2.waitKey(0)\n",
    "cv2.destroyAllWindows()"
   ]
  },
  {
   "cell_type": "code",
   "execution_count": 2,
   "metadata": {},
   "outputs": [],
   "source": [
    "# 텍스트\n",
    "canvas = np.zeros((460, 640, 3), dtype=np.uint8)\n",
    "\n",
    "cv2.putText(canvas, \"I'm sleepy\", (50,50), cv2.FONT_HERSHEY_SIMPLEX, 1, (255,255,255),1)\n",
    "cv2.imshow(\"Text\", canvas)\n",
    "cv2.waitKey(0)\n",
    "cv2.destroyAllWindows()"
   ]
  },
  {
   "cell_type": "code",
   "execution_count": null,
   "metadata": {},
   "outputs": [],
   "source": [
    "# 이미지 저장\n",
    "img = cv2.imread(\"./images/dog.jpg\", cv2.IMREAD_GRAYSCALE)\n",
    "cv2.imwrite(\"./images/dog_gray.jpg\", img)"
   ]
  },
  {
   "cell_type": "code",
   "execution_count": 5,
   "metadata": {},
   "outputs": [],
   "source": [
    "# 동영상 저장\n",
    "cap = cv2.VideoCapture(\"./videos/dog.mp4\")\n",
    "\n",
    "fourcc = cv2.VideoWriter_fourcc(*\"h264\")\n",
    "fps = cap.get(cv2.CAP_PROP_FPS)\n",
    "width = round(cap.get(cv2.CAP_PROP_FRAME_WIDTH))\n",
    "height = round(cap.get(cv2.CAP_PROP_FRAME_HEIGHT))\n",
    "out = cv2.VideoWriter(\"./videos/dog_copy.mp4\", fourcc, fps, (width, height))\n",
    "\n",
    "while cap.isOpened():\n",
    "  ret, frame = cap.read()\n",
    "\n",
    "  if not ret:\n",
    "    break\n",
    "  \n",
    "  out.write(frame)\n",
    "  cv2.imshow(\"Write\", frame)\n",
    "\n",
    "  if cv2.waitKey(int(1000/fps)) == ord(\"q\"):\n",
    "    break\n",
    "\n",
    "out.release()\n",
    "cap.release()\n",
    "cv2.destroyAllWindows()"
   ]
  },
  {
   "cell_type": "code",
   "execution_count": 10,
   "metadata": {},
   "outputs": [],
   "source": [
    "# 이미지 리사이즈\n",
    "img = cv2.imread(DEFAUL_IMAGE_PATH)\n",
    "dst_1 = cv2.resize(img, (100,200))\n",
    "dst_2 = cv2.resize(img, None, fx=2, fy=2, interpolation=cv2.INTER_CUBIC)\n",
    "cv2.imshow(\"resize\", dst_1)\n",
    "cv2.imshow(\"resize by ratio\", dst_2)\n",
    "\n",
    "cv2.waitKey(0)\n",
    "cv2.destroyAllWindows()"
   ]
  },
  {
   "cell_type": "code",
   "execution_count": null,
   "metadata": {},
   "outputs": [],
   "source": [
    "# 비디오 리사이즈\n",
    "cap = cv2.VideoCapture(DEFAUL_VIDEO_PATH)\n",
    "\n",
    "while cap.isOpened():\n",
    "  ret, frame = cap.read()\n",
    "\n",
    "  if not ret:\n",
    "    break\n",
    "\n",
    "  resized = cv2.resize(frame, None, fx=0.5, fy=0.5)\n",
    "  cv2.imshow(\"Resized\", resized)\n",
    "\n",
    "  if cv2.waitKey(33) == ord(\"q\"):\n",
    "    break\n",
    "\n",
    "cap.release()\n",
    "cv2.destroyAllWindows()"
   ]
  }
 ],
 "metadata": {
  "kernelspec": {
   "display_name": "cv_env",
   "language": "python",
   "name": "python3"
  },
  "language_info": {
   "codemirror_mode": {
    "name": "ipython",
    "version": 3
   },
   "file_extension": ".py",
   "mimetype": "text/x-python",
   "name": "python",
   "nbconvert_exporter": "python",
   "pygments_lexer": "ipython3",
   "version": "3.13.1"
  }
 },
 "nbformat": 4,
 "nbformat_minor": 2
}
