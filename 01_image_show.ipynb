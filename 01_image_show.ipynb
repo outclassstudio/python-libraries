{
 "cells": [
  {
   "cell_type": "markdown",
   "metadata": {},
   "source": [
    "## 01. 이미지 출력"
   ]
  },
  {
   "cell_type": "markdown",
   "metadata": {},
   "source": [
    "### 1.1. 이미지 파일 출력하기\n",
    "- `cv2.imread(\"파일경로\")` : 해당하는 경로의 이미지 불러오기\n",
    "- `c2.imshow(\"창이름\", 이미지)` : \"창이름\"을 가진 창에 불러온 이미지 출력\n",
    "- `cv2.waitKey(ms)` : ms만큼 기다렸다가 입력이 없을시 자동으로 창 종료\n",
    "  - 0을 입력할 시 무한 대기함\n",
    "- `cv2.destroyAllWindows()` : 열린 모든 창 종료료"
   ]
  },
  {
   "cell_type": "code",
   "execution_count": 1,
   "metadata": {},
   "outputs": [],
   "source": [
    "import cv2\n",
    "\n",
    "img = cv2.imread(\"./images/dog_png.png\")\n",
    "cv2.imshow(\"img\", img)\n",
    "\n",
    "key = cv2.waitKey(0)\n",
    "print(key) # 사용자가 입력한 키의 ascii 코드 출력\n",
    "\n",
    "cv2.destroyAllWindows()"
   ]
  },
  {
   "cell_type": "markdown",
   "metadata": {},
   "source": [
    "### 1.2 이미지 읽기 옵션\n",
    "- `cv2.IMREAD_COLOR` : 이미지를 컬러로 불러옴, alpha값은 무시(기본 값)\n",
    "- `cv2.IMREAD_GRAYSCALE` : 이미지를 그레이스케일로 불러옴\n",
    "- `cv2.IMREAD_UNCHANGED` : 이미지를 불러올 때 alpha값을 함께 불러옴"
   ]
  },
  {
   "cell_type": "code",
   "execution_count": 2,
   "metadata": {},
   "outputs": [],
   "source": [
    "import cv2\n",
    "\n",
    "img_default = cv2.imread(\"./images/dog_png.png\", cv2.IMREAD_COLOR)\n",
    "img_gray = cv2.imread(\"./images/dog_png.png\", cv2.IMREAD_GRAYSCALE)\n",
    "img_unchanged = cv2.imread(\"./images/dog_png.png\", cv2.IMREAD_UNCHANGED)\n",
    "\n",
    "cv2.imshow(\"img_color(default)\", img_default)\n",
    "cv2.imshow(\"img_gray\", img_gray)\n",
    "cv2.imshow(\"img_unchanged\", img_unchanged)\n",
    "\n",
    "key = cv2.waitKey(0)\n",
    "cv2.destroyAllWindows()"
   ]
  },
  {
   "cell_type": "markdown",
   "metadata": {},
   "source": [
    "1.3 이미지 Shape\n",
    "- `img.shape` 이미지의 (세로, 가로, 채널)을 출력해줌"
   ]
  },
  {
   "cell_type": "code",
   "execution_count": 4,
   "metadata": {},
   "outputs": [
    {
     "name": "stdout",
     "output_type": "stream",
     "text": [
      "IMREAD_COLOR (476, 320, 3)\n",
      "IMREAD_GRAYSCALE (476, 320)\n",
      "IMREAD_UNCHANGED (476, 320, 4)\n"
     ]
    }
   ],
   "source": [
    "print(\"IMREAD_COLOR\", img_default.shape) # 채널 3 (R,G,B)\n",
    "print(\"IMREAD_GRAYSCALE\", img_gray.shape) # 채널X\n",
    "print(\"IMREAD_UNCHANGED\", img_unchanged.shape) # 채널4 alpha값 포함"
   ]
  }
 ],
 "metadata": {
  "kernelspec": {
   "display_name": "cv_env",
   "language": "python",
   "name": "python3"
  },
  "language_info": {
   "codemirror_mode": {
    "name": "ipython",
    "version": 3
   },
   "file_extension": ".py",
   "mimetype": "text/x-python",
   "name": "python",
   "nbconvert_exporter": "python",
   "pygments_lexer": "ipython3",
   "version": "3.13.1"
  }
 },
 "nbformat": 4,
 "nbformat_minor": 2
}
