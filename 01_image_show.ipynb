{
 "cells": [
  {
   "cell_type": "markdown",
   "metadata": {},
   "source": [
    "## 01. 이미지 출력"
   ]
  },
  {
   "cell_type": "markdown",
   "metadata": {},
   "source": [
    "### 1.1 이미지 출력하기\n",
    "- `cv2.imread(\"파일명\")` : 이미지 읽어오기\n",
    "- `cv2.imshow(\"창이름\", 불러올 파일)` : 이미지 출력하기\n",
    "- `cv2.waitKey(시간ms)` : 지정된 시간 동안 사용자 키 입력 대기\n",
    "  - 0을 입력할 경우 계속 대기\n",
    "- `cv2.destroyAllWindows()` : 출력한 모든 창 종료"
   ]
  },
  {
   "cell_type": "code",
   "execution_count": 2,
   "metadata": {},
   "outputs": [
    {
     "name": "stdout",
     "output_type": "stream",
     "text": [
      "97\n"
     ]
    }
   ],
   "source": [
    "import cv2 \n",
    "\n",
    "img = cv2.imread(\"dogs.jpg\")\n",
    "cv2.imshow(\"img\", img)\n",
    "\n",
    "key = cv2.waitKey(0) \n",
    "\n",
    "# key의 ascii code가 출력됨\n",
    "print(key) \n",
    "\n",
    "cv2.destroyAllWindows() "
   ]
  },
  {
   "cell_type": "markdown",
   "metadata": {},
   "source": [
    "### 1.2 읽기 옵션\n",
    "- `cv2.IMREAD_COLOR` : 컬러 이미지, 투명 영역은 무시(기본 값)\n",
    "- `cv2.IMREAD_GRAYSCALE` : 흑백 이미지\n",
    "- `cv2.IMREAD_UNCHANGED` : 투명 영역까지 포함(알파채널도 읽어 옴)"
   ]
  },
  {
   "cell_type": "code",
   "execution_count": 7,
   "metadata": {},
   "outputs": [],
   "source": [
    "img_color = cv2.imread(\"dog_png.png\", cv2.IMREAD_COLOR)\n",
    "img_gray = cv2.imread(\"dog_png.png\", cv2.IMREAD_GRAYSCALE)\n",
    "img_unchanged = cv2.imread(\"dog_png.png\", cv2.IMREAD_UNCHANGED)\n",
    "\n",
    "cv2.imshow(\"color\", img_color)\n",
    "cv2.imshow(\"gray\", img_gray)\n",
    "cv2.imshow(\"unchanged\", img_unchanged)\n",
    "\n",
    "cv2.waitKey(0)\n",
    "cv2.destroyAllWindows()"
   ]
  },
  {
   "cell_type": "markdown",
   "metadata": {},
   "source": [
    "### 1.3 Shape\n",
    "- 이미지의 height, width, channel 정보 출력"
   ]
  },
  {
   "cell_type": "code",
   "execution_count": 12,
   "metadata": {},
   "outputs": [
    {
     "name": "stdout",
     "output_type": "stream",
     "text": [
      "img (480, 640, 3)\n",
      "unchanged (476, 320, 4)\n"
     ]
    }
   ],
   "source": [
    "img_shape = cv2.imread(\"dogs.jpg\")\n",
    "print(\"img\", img.shape) # 세로, 가로, channel 출력 => 3(R,G,B)\n",
    "\n",
    "png_shape = cv2.imread(\"dog_png.png\", cv2.IMREAD_UNCHANGED)\n",
    "print(\"unchanged\", png_shape.shape) # channel에 alpha가 포함되어 4로 출력"
   ]
  }
 ],
 "metadata": {
  "kernelspec": {
   "display_name": "cv_env",
   "language": "python",
   "name": "python3"
  },
  "language_info": {
   "codemirror_mode": {
    "name": "ipython",
    "version": 3
   },
   "file_extension": ".py",
   "mimetype": "text/x-python",
   "name": "python",
   "nbconvert_exporter": "python",
   "pygments_lexer": "ipython3",
   "version": "3.13.1"
  }
 },
 "nbformat": 4,
 "nbformat_minor": 2
}
