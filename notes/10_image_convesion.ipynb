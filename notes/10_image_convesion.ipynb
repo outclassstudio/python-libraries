{
 "cells": [
  {
   "cell_type": "markdown",
   "metadata": {},
   "source": [
    "## 10. 이미지 변환"
   ]
  },
  {
   "cell_type": "code",
   "execution_count": 2,
   "metadata": {},
   "outputs": [
    {
     "name": "stdout",
     "output_type": "stream",
     "text": [
      "Setting complete.\n"
     ]
    }
   ],
   "source": [
    "import cv2\n",
    "import numpy as np\n",
    "ERODE = \"../images/erode.png\"\n",
    "DILATE = \"../images/dilate.png\"\n",
    "print(\"Setting complete.\")"
   ]
  },
  {
   "cell_type": "markdown",
   "metadata": {},
   "source": [
    "### 10-1. 팽창\n",
    "- 흰색 영역을 확장하여 검은 영역을 채움"
   ]
  },
  {
   "cell_type": "code",
   "execution_count": 3,
   "metadata": {},
   "outputs": [],
   "source": [
    "kernel = np.ones((3,3), dtype=np.uint8)\n",
    "img = cv2.imread(DILATE, cv2.IMREAD_GRAYSCALE)\n",
    "dilate_1 = cv2.dilate(img, kernel, iterations=1)\n",
    "dilate_2 = cv2.dilate(img, kernel, iterations=2)\n",
    "dilate_3 = cv2.dilate(img, kernel, iterations=3)\n",
    "\n",
    "cv2.imshow(\"img\", img)\n",
    "cv2.imshow(\"dilate_1\", dilate_1)\n",
    "cv2.imshow(\"dilate_2\", dilate_2)\n",
    "cv2.imshow(\"dilate_3\", dilate_3)\n",
    "cv2.waitKey(0)\n",
    "cv2.destroyAllWindows()"
   ]
  },
  {
   "cell_type": "markdown",
   "metadata": {},
   "source": [
    "### 10-2. 침식\n",
    "- 흰색 영역의 외곽 픽셀을 검은색으로 변경"
   ]
  },
  {
   "cell_type": "code",
   "execution_count": 4,
   "metadata": {},
   "outputs": [],
   "source": [
    "kernel = np.ones((3,3), dtype=np.uint8)\n",
    "img = cv2.imread(ERODE, cv2.IMREAD_GRAYSCALE)\n",
    "erode_1 = cv2.erode(img, kernel, iterations=1)\n",
    "erode_2 = cv2.erode(img, kernel, iterations=2)\n",
    "erode_3 = cv2.erode(img, kernel, iterations=3)\n",
    "\n",
    "cv2.imshow(\"img\", img)\n",
    "cv2.imshow(\"erode_1\", erode_1)\n",
    "cv2.imshow(\"erode_2\", erode_2)\n",
    "cv2.imshow(\"erode_3\", erode_3)\n",
    "cv2.waitKey(0)\n",
    "cv2.destroyAllWindows()"
   ]
  },
  {
   "cell_type": "markdown",
   "metadata": {},
   "source": [
    "### 10-3 열림 & 닫힘\n",
    "#### 열림(Opening) : 침식 후 팽팽창 -> 깎아서 노이즈 제거 후 팽창"
   ]
  },
  {
   "cell_type": "code",
   "execution_count": 9,
   "metadata": {},
   "outputs": [],
   "source": [
    "kernel = np.ones((3,3), dtype=np.uint8)\n",
    "img = cv2.imread(ERODE, cv2.IMREAD_GRAYSCALE)\n",
    "\n",
    "erode = cv2.erode(img, kernel, iterations=3)\n",
    "dilate = cv2.dilate(erode, kernel, iterations=3)\n",
    "\n",
    "cv2.imshow(\"img\", img)\n",
    "cv2.imshow(\"erode\", erode)\n",
    "cv2.imshow(\"dialte\", dilate)\n",
    "cv2.waitKey(0)\n",
    "cv2.destroyAllWindows()"
   ]
  },
  {
   "cell_type": "markdown",
   "metadata": {},
   "source": [
    "#### 닫힘(Closing) : 팽창 후 침식. 구멍을 메운 후 다시 깎음"
   ]
  },
  {
   "cell_type": "code",
   "execution_count": 11,
   "metadata": {},
   "outputs": [],
   "source": [
    "kernel = np.ones((3,3), dtype=np.uint8)\n",
    "img = cv2.imread(DILATE, cv2.IMREAD_GRAYSCALE)\n",
    "\n",
    "dilate = cv2.dilate(img, kernel, iterations=3)\n",
    "erode = cv2.erode(dilate, kernel, iterations=3)\n",
    "\n",
    "cv2.imshow(\"img\", img)\n",
    "cv2.imshow(\"dialte\", dilate)\n",
    "cv2.imshow(\"erode\", erode)\n",
    "cv2.waitKey(0)\n",
    "cv2.destroyAllWindows()"
   ]
  }
 ],
 "metadata": {
  "kernelspec": {
   "display_name": "cv_env",
   "language": "python",
   "name": "python3"
  },
  "language_info": {
   "codemirror_mode": {
    "name": "ipython",
    "version": 3
   },
   "file_extension": ".py",
   "mimetype": "text/x-python",
   "name": "python",
   "nbconvert_exporter": "python",
   "pygments_lexer": "ipython3",
   "version": "3.13.1"
  }
 },
 "nbformat": 4,
 "nbformat_minor": 2
}
