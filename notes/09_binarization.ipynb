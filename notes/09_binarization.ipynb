{
 "cells": [
  {
   "cell_type": "markdown",
   "metadata": {},
   "source": [
    "## 09. 이진화\n",
    "- 특정 값을 기준으로 색상을 흰색과 검은색으로 나누는 것"
   ]
  },
  {
   "cell_type": "code",
   "execution_count": null,
   "metadata": {},
   "outputs": [],
   "source": [
    "import cv2\n",
    "import numpy as np\n",
    "DEFAULT_IMAGE_PATH = \"../images/book.jpg\"\n",
    "print(\"Setting complete.\")"
   ]
  },
  {
   "cell_type": "markdown",
   "metadata": {},
   "source": [
    "### 9-1. Threshold\n",
    "- 한계값, 임계값, 문턱값 등등\n",
    "- `ret, binaray = cv2.threshold(img, thresh, max_val, type)`\n",
    "  - thresh : 한계값\n",
    "  - max_val : 이진화 할 시 최대 값 -> 255: 흰색/검은색색"
   ]
  },
  {
   "cell_type": "code",
   "execution_count": 11,
   "metadata": {},
   "outputs": [],
   "source": [
    "img = cv2.imread(DEFAULT_IMAGE_PATH, cv2.IMREAD_GRAYSCALE)\n",
    "\n",
    "ret, binaray = cv2.threshold(img, 127, 255, cv2.THRESH_BINARY)\n",
    "\n",
    "cv2.imshow(\"img\", img)\n",
    "cv2.imshow('binary', binaray)\n",
    "cv2.waitKey(0)\n",
    "cv2.destroyAllWindows()"
   ]
  },
  {
   "cell_type": "markdown",
   "metadata": {},
   "source": [
    "### 9-2. Trackbar \n",
    "- 값 변화에 따른 변형 확인"
   ]
  },
  {
   "cell_type": "code",
   "execution_count": 17,
   "metadata": {},
   "outputs": [],
   "source": [
    "def empty(pos):\n",
    "  # print(pos)\n",
    "  pass\n",
    "\n",
    "img = cv2.imread(DEFAULT_IMAGE_PATH, cv2.IMREAD_GRAYSCALE)\n",
    "\n",
    "name = \"Trackbar\"\n",
    "cv2.namedWindow(name)\n",
    "\n",
    "# 윈도우 로드 전 트랙바 생성\n",
    "cv2.createTrackbar(\"threshold\", name, 127, 255, empty)\n",
    "\n",
    "while True:\n",
    "  # 트랙바 값 불러오기\n",
    "  thresh = cv2.getTrackbarPos(\"threshold\", name)\n",
    "  ret, binary = cv2.threshold(img, thresh, 255, cv2.THRESH_BINARY)\n",
    "\n",
    "  if not ret:\n",
    "    break\n",
    "\n",
    "  cv2.imshow(name, binary)\n",
    "\n",
    "  if cv2.waitKey(1) == ord(\"q\"):\n",
    "    break\n",
    "\n",
    "cv2.destroyAllWindows()"
   ]
  },
  {
   "cell_type": "markdown",
   "metadata": {},
   "source": [
    "### 9-3. Adaptive Threshold\n",
    "- 이미지를 작은 영역으로 나누어서 threshold 적용용"
   ]
  },
  {
   "cell_type": "code",
   "execution_count": 19,
   "metadata": {},
   "outputs": [],
   "source": [
    "def empty(pos):\n",
    "  # print(pos)\n",
    "  pass\n",
    "\n",
    "img = cv2.imread(DEFAULT_IMAGE_PATH, cv2.IMREAD_GRAYSCALE)\n",
    "\n",
    "name = \"Trackbar\"\n",
    "cv2.namedWindow(name)\n",
    "\n",
    "# 윈도우 로드 전 트랙바 생성\n",
    "cv2.createTrackbar(\"block_size\", name, 25, 100, empty) # 홀수만 가능, 1보다는 큰 값값\n",
    "cv2.createTrackbar(\"c\", name, 3, 10, empty) # 일반적으로 양수의 값을 사용\n",
    "\n",
    "while True:\n",
    "  # 트랙바 값 불러오기\n",
    "  block_size = cv2.getTrackbarPos(\"block_size\", name)\n",
    "  c = cv2.getTrackbarPos(\"c\", name)\n",
    "\n",
    "  if block_size <= 1:\n",
    "    block_size = 3\n",
    "\n",
    "  if block_size % 2 == 0:\n",
    "    block_size += 1\n",
    "\n",
    "  binary = cv2.adaptiveThreshold(img, 255, cv2.ADAPTIVE_THRESH_MEAN_C, cv2.THRESH_BINARY, block_size, c)\n",
    "\n",
    "  cv2.imshow(name, binary)\n",
    "\n",
    "  if cv2.waitKey(1) == ord(\"q\"):\n",
    "    break\n",
    "\n",
    "cv2.destroyAllWindows()"
   ]
  },
  {
   "cell_type": "markdown",
   "metadata": {},
   "source": [
    "### 9-4. 오츠 알고리즘\n",
    "- 최적의 Threshold를 찾는 알고리즘\n",
    "- Bimodal Image에 사용하기 적합(최적의 임계치를 자동으로 발견)\n",
    "  - histogram상에서 peak가 두개 나타나는 이미지지"
   ]
  },
  {
   "cell_type": "code",
   "execution_count": 20,
   "metadata": {},
   "outputs": [
    {
     "name": "stdout",
     "output_type": "stream",
     "text": [
      "otsu threshold 72.0\n"
     ]
    }
   ],
   "source": [
    "img = cv2.imread(DEFAULT_IMAGE_PATH, cv2.IMREAD_GRAYSCALE)\n",
    "\n",
    "ret, binaray = cv2.threshold(img, 127, 255, cv2.THRESH_BINARY)\n",
    "ret, otsu = cv2.threshold(img, -1, 255, cv2.THRESH_BINARY | cv2.THRESH_OTSU)\n",
    "print(\"otsu threshold\", ret)\n",
    "\n",
    "cv2.imshow(\"img\", img)\n",
    "cv2.imshow('binary', binaray)\n",
    "cv2.imshow('otsu', otsu)\n",
    "cv2.waitKey(0)\n",
    "cv2.destroyAllWindows()"
   ]
  }
 ],
 "metadata": {
  "kernelspec": {
   "display_name": "cv_env",
   "language": "python",
   "name": "python3"
  },
  "language_info": {
   "codemirror_mode": {
    "name": "ipython",
    "version": 3
   },
   "file_extension": ".py",
   "mimetype": "text/x-python",
   "name": "python",
   "nbconvert_exporter": "python",
   "pygments_lexer": "ipython3",
   "version": "3.13.1"
  }
 },
 "nbformat": 4,
 "nbformat_minor": 2
}
