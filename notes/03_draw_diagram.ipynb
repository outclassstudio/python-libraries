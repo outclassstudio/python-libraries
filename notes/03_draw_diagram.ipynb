{
 "cells": [
  {
   "cell_type": "markdown",
   "metadata": {},
   "source": [
    "## 03. 도형 그리기"
   ]
  },
  {
   "cell_type": "markdown",
   "metadata": {},
   "source": [
    "### 3-1. 빈 스케치북 만들기"
   ]
  },
  {
   "cell_type": "code",
   "execution_count": 2,
   "metadata": {},
   "outputs": [],
   "source": [
    "import cv2\n",
    "import numpy as np"
   ]
  },
  {
   "cell_type": "code",
   "execution_count": 2,
   "metadata": {},
   "outputs": [],
   "source": [
    "# 480 * 640, 3 Channel(RGB) 스케치북 만들기\n",
    "#? 3 Channel -> 한 요소 안에 [0, 0, 0]이 들어감감\n",
    "#? uint는 부호 없는 정수형\n",
    "img = np.zeros((460, 640, 3), dtype=np.uint8)\n",
    "# img[:] = (255, 255, 255) # 전체 공간을 255로 채움\n",
    "#? opencv에서는 rgb를 rgb순으로 읽지 않고 bgr순으로 읽음\n",
    "cv2.imshow(\"img\", img)\n",
    "cv2.waitKey(0)\n",
    "cv2.destroyAllWindows()"
   ]
  },
  {
   "cell_type": "markdown",
   "metadata": {},
   "source": [
    "### 3-2. 일부 영역 색칠"
   ]
  },
  {
   "cell_type": "code",
   "execution_count": null,
   "metadata": {},
   "outputs": [],
   "source": [
    "img_2 = np.zeros((460, 640, 3), dtype=np.uint8)\n",
    "# [세로영역(행), 가로영역(열)]\n",
    "img_2[100:200, 200:300] = (255,255,255)\n",
    "cv2.imshow(\"img_2\", img_2)\n",
    "cv2.waitKey(0)\n",
    "cv2.destroyAllWindows()"
   ]
  },
  {
   "cell_type": "markdown",
   "metadata": {},
   "source": [
    "### 3-3. 직선 그리기\n",
    "- 직선의 종류\n",
    "1. `cv2.LINE_4` : 상하좌우 4방향으로 연결된 선(점을 중심으로 4픽셀)\n",
    "2. `cv2.LINE_8` : 대각성을 포함한 8 방향 연결된 선 (기본값) (점을 중심으로 8픽셀)\n",
    "3. `cv2.LINE_AA` : 부드러운 선(anti-aliasing 적용용)"
   ]
  },
  {
   "cell_type": "code",
   "execution_count": 11,
   "metadata": {},
   "outputs": [],
   "source": [
    "img_3 = np.zeros((460, 640, 3), dtype=np.uint8)\n",
    "COLOR = (0, 255, 255) # BGR\n",
    "THICKNESS = 3 # 두께\n",
    "# cv2.line(이미지, 시작, 끝, 색상, 두께)\n",
    "cv2.line(img_3, (50,100), (400,50), COLOR, THICKNESS, cv2.LINE_8)\n",
    "cv2.line(img_3, (50,200), (400,150), COLOR, THICKNESS, cv2.LINE_4)\n",
    "cv2.line(img_3, (50,300), (400,250), COLOR, THICKNESS, cv2.LINE_AA)\n",
    "cv2.imshow(\"img\", img_3)\n",
    "cv2.waitKey(0)\n",
    "cv2.destroyAllWindows()"
   ]
  },
  {
   "cell_type": "markdown",
   "metadata": {},
   "source": [
    "### 3-4. 원그리기"
   ]
  },
  {
   "cell_type": "code",
   "execution_count": 14,
   "metadata": {},
   "outputs": [],
   "source": [
    "img_4 = np.zeros((460, 640, 3), dtype=np.uint8)\n",
    "COLOR = (255,255,0)\n",
    "RADIUS = 50\n",
    "THICKNESS = 10\n",
    "\n",
    "# cv2.circle(이미지, 중심점, 반지름, 색상, 두께, 선 스타일)\n",
    "#? 스타일1 : 비어있는 원\n",
    "cv2.circle(img_4, (250,230), RADIUS, COLOR, THICKNESS, cv2.LINE_AA)\n",
    "#? 스타일2 : 꽉 찬 원\n",
    "cv2.circle(img_4, (390,230), RADIUS, COLOR, cv2.FILLED, cv2.LINE_AA)\n",
    "cv2.imshow(\"circle\", img_4)\n",
    "cv2.waitKey(0)\n",
    "cv2.destroyAllWindows()"
   ]
  },
  {
   "cell_type": "markdown",
   "metadata": {},
   "source": [
    "### 3-5. 사각형"
   ]
  },
  {
   "cell_type": "code",
   "execution_count": 20,
   "metadata": {},
   "outputs": [],
   "source": [
    "img_5 = np.zeros((460, 640, 3), dtype=np.uint8)\n",
    "COLOR = (255,0,255)\n",
    "THICKNESS = 10\n",
    "\n",
    "# point1: 왼쪽 위 -> point2: 오른쪽 아래\n",
    "#? 비어있는 사각형\n",
    "cv2.rectangle(img_5, (200,180),(300,280), COLOR, THICKNESS, cv2.LINE_AA)\n",
    "#? 꽉 찬 사각형\n",
    "cv2.rectangle(img_5, (340,180),(430,280), COLOR, cv2.FILLED)\n",
    "cv2.imshow(\"rectangle\", img_5)\n",
    "cv2.waitKey(0)\n",
    "cv2.destroyAllWindows()\n"
   ]
  },
  {
   "cell_type": "markdown",
   "metadata": {},
   "source": [
    "### 3-6. 다각형"
   ]
  },
  {
   "cell_type": "code",
   "execution_count": 3,
   "metadata": {},
   "outputs": [],
   "source": [
    "img_6 = np.zeros((460, 640, 3), dtype=np.uint8)\n",
    "COLOR = (0,255,0)\n",
    "THICKNESS = 3\n",
    "\n",
    "pts1 = np.array([[100,100],[200,100],[100,200]])\n",
    "pts2 = np.array([[100,200],[200,200],[100,300]])\n",
    "\n",
    "#? cv2.polylines : 선으로 된 다각형\n",
    "# cv2.polylines(이미지, 위치, 닫음여부, 색상, 두께, 라인스타일 ...)\n",
    "cv2.polylines(img_6, [pts1], True, COLOR, THICKNESS, cv2.LINE_AA)\n",
    "cv2.polylines(img_6, [pts2], True, COLOR, THICKNESS, cv2.LINE_AA)\n",
    "\n",
    "#? cv2.fillPoly : poly에서는 속이 꽉 찬 도형을 그리는 방식이 다름\n",
    "# 이미지, 그릴 위치, 색상, 라인스타일만 지정하면됨\n",
    "pts3 = np.array([[[100,300],[200,300],[100,400]],[[200,300],[300,300],[300,400]]])\n",
    "cv2.fillPoly(img_6,pts3,COLOR,cv2.LINE_AA)\n",
    "\n",
    "cv2.imshow(\"rectangle\", img_6)\n",
    "cv2.waitKey(0)\n",
    "cv2.destroyAllWindows()"
   ]
  }
 ],
 "metadata": {
  "kernelspec": {
   "display_name": "cv_env",
   "language": "python",
   "name": "python3"
  },
  "language_info": {
   "codemirror_mode": {
    "name": "ipython",
    "version": 3
   },
   "file_extension": ".py",
   "mimetype": "text/x-python",
   "name": "python",
   "nbconvert_exporter": "python",
   "pygments_lexer": "ipython3",
   "version": "3.13.1"
  }
 },
 "nbformat": 4,
 "nbformat_minor": 2
}
