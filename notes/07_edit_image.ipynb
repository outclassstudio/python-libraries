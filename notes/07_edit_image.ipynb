{
 "cells": [
  {
   "cell_type": "markdown",
   "metadata": {},
   "source": [
    "## 07. 이미지 편집"
   ]
  },
  {
   "cell_type": "code",
   "execution_count": 1,
   "metadata": {},
   "outputs": [
    {
     "name": "stdout",
     "output_type": "stream",
     "text": [
      "setting complete\n"
     ]
    }
   ],
   "source": [
    "# setting\n",
    "import cv2\n",
    "import numpy as np\n",
    "DEFAULT_IMAGE_PATH = \"../images/dog.jpg\"\n",
    "DEFAULT_VIDEO_PATH = \"../videos/dog.mp4\"\n",
    "print(\"setting complete\")"
   ]
  },
  {
   "cell_type": "markdown",
   "metadata": {},
   "source": [
    "### 7-1 이미지 자르기"
   ]
  },
  {
   "cell_type": "code",
   "execution_count": null,
   "metadata": {},
   "outputs": [],
   "source": [
    "# 영역을 잘라서 새로운 윈도우(창)에 표시\n",
    "img = cv2.imread(DEFAULT_IMAGE_PATH)\n",
    "\n",
    "crop = img[100:200, 100:400]\n",
    "\n",
    "cv2.imshow(\"Dog\", img) # 원본\n",
    "cv2.imshow(\"Dog cropped\", crop) # 자른 이미지\n",
    "\n",
    "cv2.waitKey(0)\n",
    "cv2.destroyAllWindows()"
   ]
  },
  {
   "cell_type": "code",
   "execution_count": 6,
   "metadata": {},
   "outputs": [],
   "source": [
    "# 영역을 잘라서 기존 윈도우에 표시\n",
    "img = cv2.imread(DEFAULT_IMAGE_PATH)\n",
    "\n",
    "crop = img[100:200, 200:400]\n",
    "img[100:200, 400:600] = crop\n",
    "\n",
    "cv2.imshow(\"Dog\", img)\n",
    "\n",
    "cv2.waitKey(0)\n",
    "cv2.destroyAllWindows()"
   ]
  },
  {
   "cell_type": "markdown",
   "metadata": {},
   "source": [
    "### 7-2. 이미지 대칭\n",
    "- `cv2.flip(이미지, flipcode)` : flipcode(정수)의 값에 따라 대칭 형태가 달라짐\n",
    "- `flipcode > 1` : 좌우 반전\n",
    "- `flipcode == 0` : 상하 반전\n",
    "- `flipcode < 0` : 상하좌우 반전"
   ]
  },
  {
   "cell_type": "markdown",
   "metadata": {},
   "source": [
    "#### 7-2-1. 좌우 대칭"
   ]
  },
  {
   "cell_type": "code",
   "execution_count": 2,
   "metadata": {},
   "outputs": [],
   "source": [
    "img = cv2.imread(DEFAULT_IMAGE_PATH)\n",
    "flip_horizontal = cv2.flip(img, 1) # flipcode > 0 좌우대칭\n",
    "\n",
    "cv2.imshow(\"Original\", img)\n",
    "cv2.imshow(\"Flip X\", flip_horizontal)\n",
    "\n",
    "cv2.waitKey(0)\n",
    "cv2.destroyAllWindows()"
   ]
  },
  {
   "cell_type": "markdown",
   "metadata": {},
   "source": [
    "#### 7-2-2. 상하 대칭"
   ]
  },
  {
   "cell_type": "code",
   "execution_count": 3,
   "metadata": {},
   "outputs": [],
   "source": [
    "img = cv2.imread(DEFAULT_IMAGE_PATH)\n",
    "flip_vertical = cv2.flip(img, 0) # flipcode == 0 상하대칭\n",
    "\n",
    "cv2.imshow(\"Original\", img)\n",
    "cv2.imshow(\"Flip Y\", flip_vertical)\n",
    "\n",
    "cv2.waitKey(0)\n",
    "cv2.destroyAllWindows()"
   ]
  },
  {
   "cell_type": "markdown",
   "metadata": {},
   "source": [
    "#### 7-2-3. 상하좌우 대칭"
   ]
  },
  {
   "cell_type": "code",
   "execution_count": 6,
   "metadata": {},
   "outputs": [],
   "source": [
    "img = cv2.imread(DEFAULT_IMAGE_PATH)\n",
    "flip_both = cv2.flip(img, -1) # flipcode < 0 상하좌우대칭\n",
    "\n",
    "cv2.imshow(\"Original\", img)\n",
    "cv2.imshow(\"Flip XY\", flip_both)\n",
    "\n",
    "cv2.waitKey(0)\n",
    "cv2.destroyAllWindows()"
   ]
  },
  {
   "cell_type": "code",
   "execution_count": 5,
   "metadata": {},
   "outputs": [],
   "source": [
    "#전체 비교\n",
    "cv2.imshow(\"Original\", img)\n",
    "cv2.imshow(\"Flip X\", flip_horizontal)\n",
    "cv2.imshow(\"Flip Y\", flip_vertical)\n",
    "cv2.imshow(\"Flip XY\", flip_both)\n",
    "cv2.waitKey(0)\n",
    "cv2.destroyAllWindows()"
   ]
  },
  {
   "cell_type": "markdown",
   "metadata": {},
   "source": [
    "### 7-3. 이미지 회전\n",
    "- `cv2.rotate(이미지, 회전옵션)`\n",
    "- `cv2.ROTATE_90_CLOCKWISE` : 시계 방향 90도 회전\n",
    "- `cv2.ROTATE_180` : 180도 회전\n",
    "- `cv2.ROTATE_90_COUNTERCLOCKWISE` : 시계 반대 방향 90도(시계 방향 270도) 회전"
   ]
  },
  {
   "cell_type": "markdown",
   "metadata": {},
   "source": [
    "#### 7-3-1. 시계 방향 90도 회전"
   ]
  },
  {
   "cell_type": "code",
   "execution_count": 8,
   "metadata": {},
   "outputs": [],
   "source": [
    "img = cv2.imread(DEFAULT_IMAGE_PATH)\n",
    "rotate_90 = cv2.rotate(img, cv2.ROTATE_90_CLOCKWISE)\n",
    "\n",
    "cv2.imshow(\"Original\", img)\n",
    "cv2.imshow(\"Rotate 90\", rotate_90)\n",
    "\n",
    "cv2.waitKey(0)\n",
    "cv2.destroyAllWindows()"
   ]
  },
  {
   "cell_type": "markdown",
   "metadata": {},
   "source": [
    "#### 7-3-2. 180도 회전"
   ]
  },
  {
   "cell_type": "code",
   "execution_count": 9,
   "metadata": {},
   "outputs": [],
   "source": [
    "img = cv2.imread(DEFAULT_IMAGE_PATH)\n",
    "rotate_180 = cv2.rotate(img, cv2.ROTATE_180)\n",
    "\n",
    "cv2.imshow(\"Original\", img)\n",
    "cv2.imshow(\"Rotate 180\", rotate_180)\n",
    "\n",
    "cv2.waitKey(0)\n",
    "cv2.destroyAllWindows()"
   ]
  },
  {
   "cell_type": "markdown",
   "metadata": {},
   "source": [
    "#### 7-3-3. 시계 반대 방향 90도 회전(시계 방향 270도 회전)"
   ]
  },
  {
   "cell_type": "code",
   "execution_count": 10,
   "metadata": {},
   "outputs": [],
   "source": [
    "img = cv2.imread(DEFAULT_IMAGE_PATH)\n",
    "rotate_90 = cv2.rotate(img, cv2.ROTATE_90_COUNTERCLOCKWISE)\n",
    "\n",
    "cv2.imshow(\"Original\", img)\n",
    "cv2.imshow(\"Rotate 90\", rotate_90)\n",
    "\n",
    "cv2.waitKey(0)\n",
    "cv2.destroyAllWindows()"
   ]
  },
  {
   "cell_type": "markdown",
   "metadata": {},
   "source": [
    "### 7-4. 흑백\n",
    "- `cv2.cvtColor(img, 색상옵션)` : 이미지를 불러온 후 색상 변경\n",
    "- `cv2.COLOR_BGR2GRAY` : RGB를 Grayscale로 변경"
   ]
  },
  {
   "cell_type": "code",
   "execution_count": 15,
   "metadata": {},
   "outputs": [],
   "source": [
    "img = cv2.imread(DEFAULT_IMAGE_PATH)\n",
    "dst = cv2.cvtColor(img, cv2.COLOR_BGR2GRAY)\n",
    "\n",
    "cv2.imshow(\"Original\", img)\n",
    "cv2.imshow(\"Grayscale\", dst)\n",
    "\n",
    "cv2.waitKey(0)\n",
    "cv2.destroyAllWindows()"
   ]
  },
  {
   "cell_type": "markdown",
   "metadata": {},
   "source": [
    "### 7-5. 흐림"
   ]
  },
  {
   "cell_type": "markdown",
   "metadata": {},
   "source": [
    "#### 7-5-1. 가우시안 블러\n",
    "- `cv2.GaussianBlur(이미지, 커널사이즈, 시그마값)`"
   ]
  },
  {
   "cell_type": "code",
   "execution_count": 16,
   "metadata": {},
   "outputs": [],
   "source": [
    "# 커널 사이즈 변화에 따른 흐림\n",
    "# [3,3] [5,5] [7,7]을 주로 사용\n",
    "img = cv2.imread(DEFAULT_IMAGE_PATH)\n",
    "kernel_3 = cv2.GaussianBlur(img, (3,3), 0)\n",
    "kernel_5 = cv2.GaussianBlur(img, (5,5), 0)\n",
    "kernel_7 = cv2.GaussianBlur(img, (7,7), 0)\n",
    "\n",
    "cv2.imshow(\"Original\", img)\n",
    "cv2.imshow(\"Kernel 3\", kernel_3)\n",
    "cv2.imshow(\"Kernel 5\", kernel_5)\n",
    "cv2.imshow(\"Kernel 7\", kernel_7)\n",
    "\n",
    "cv2.waitKey(0)\n",
    "cv2.destroyAllWindows()"
   ]
  },
  {
   "cell_type": "code",
   "execution_count": 17,
   "metadata": {},
   "outputs": [],
   "source": [
    "# 표준편차 변화에 따른 흐림\n",
    "img = cv2.imread(DEFAULT_IMAGE_PATH)\n",
    "sigma_1 = cv2.GaussianBlur(img, (0,0), 1)\n",
    "sigma_2 = cv2.GaussianBlur(img, (0,0), 2)\n",
    "sigma_3 = cv2.GaussianBlur(img, (0,0), 3)\n",
    "\n",
    "cv2.imshow(\"Original\", img)\n",
    "cv2.imshow(\"Sigma 1\", sigma_1)\n",
    "cv2.imshow(\"Sigma 2\", sigma_2)\n",
    "cv2.imshow(\"Sigma 3\", sigma_3)\n",
    "\n",
    "cv2.waitKey(0)\n",
    "cv2.destroyAllWindows()"
   ]
  }
 ],
 "metadata": {
  "kernelspec": {
   "display_name": "cv_env",
   "language": "python",
   "name": "python3"
  },
  "language_info": {
   "codemirror_mode": {
    "name": "ipython",
    "version": 3
   },
   "file_extension": ".py",
   "mimetype": "text/x-python",
   "name": "python",
   "nbconvert_exporter": "python",
   "pygments_lexer": "ipython3",
   "version": "3.13.1"
  }
 },
 "nbformat": 4,
 "nbformat_minor": 2
}
