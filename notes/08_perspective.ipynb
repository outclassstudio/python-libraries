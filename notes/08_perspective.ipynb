{
 "cells": [
  {
   "cell_type": "markdown",
   "metadata": {},
   "source": [
    "## 08. 원근법"
   ]
  },
  {
   "cell_type": "markdown",
   "metadata": {},
   "source": [
    "- `cv2.getPerspectiveTransform(src, dst)` : 변경 matrix 생성\n",
    "- `cv2.warpPerspective(img, mat, (width, height))` : matrix에 맞춰 이미지 생성"
   ]
  },
  {
   "cell_type": "code",
   "execution_count": 2,
   "metadata": {},
   "outputs": [
    {
     "name": "stdout",
     "output_type": "stream",
     "text": [
      "setting complete\n"
     ]
    }
   ],
   "source": [
    "# setting\n",
    "import cv2\n",
    "import numpy as np\n",
    "NEWSPAPER = \"../images/newspaper.jpg\"\n",
    "CARD = \"../images/card.jpg\"\n",
    "print(\"setting complete\")"
   ]
  },
  {
   "cell_type": "markdown",
   "metadata": {},
   "source": [
    "### 8-1. 사다리꼴 이미지 펼치기"
   ]
  },
  {
   "cell_type": "code",
   "execution_count": 3,
   "metadata": {},
   "outputs": [],
   "source": [
    "img = cv2.imread(NEWSPAPER)\n",
    "\n",
    "width, height = 640, 240\n",
    "# 변형할 지점 선택(좌상, 우상, 우하, 좌하) -> 시계방향\n",
    "src = np.array([[511,352],[1008,345],[1122,584],[455,594]], dtype=np.float32)\n",
    "# 결과물 출력할 형태 생성(좌상, 우상, 우하, 좌하) -> 시계방향\n",
    "dst = np.array([[0,0],[width,0],[width, height],[0, height]], dtype=np.float32)\n",
    "# 원근 조절한 matrix생성\n",
    "mat = cv2.getPerspectiveTransform(src, dst)\n",
    "# img를 mat에 의해 변환\n",
    "result = cv2.warpPerspective(img, mat, (width, height))\n",
    "\n",
    "cv2.imshow(\"original\", img)\n",
    "cv2.imshow(\"perspective\", result)\n",
    "cv2.waitKey(0)\n",
    "cv2.destroyAllWindows()"
   ]
  },
  {
   "cell_type": "markdown",
   "metadata": {},
   "source": [
    "### 8-2. 회전된 이미지 올바르게 세우기"
   ]
  },
  {
   "cell_type": "code",
   "execution_count": 8,
   "metadata": {},
   "outputs": [],
   "source": [
    "img = cv2.imread(\"./images/card.jpg\")\n",
    "\n",
    "width, height = 640, 360\n",
    "src = np.array([[128,1328],[855,1289],[935,1550],[135,1601]], dtype=np.float32)\n",
    "dst = np.array([[0,0],[width,0],[width, height],[0, height]], dtype=np.float32)\n",
    "mat = cv2.getPerspectiveTransform(src, dst)\n",
    "result = cv2.warpPerspective(img, mat, (width, height))\n",
    "\n",
    "cv2.imshow(\"original\", img)\n",
    "cv2.imshow(\"perspective\", result)\n",
    "cv2.waitKey(0)\n",
    "cv2.destroyAllWindows()"
   ]
  }
 ],
 "metadata": {
  "kernelspec": {
   "display_name": "cv_env",
   "language": "python",
   "name": "python3"
  },
  "language_info": {
   "codemirror_mode": {
    "name": "ipython",
    "version": 3
   },
   "file_extension": ".py",
   "mimetype": "text/x-python",
   "name": "python",
   "nbconvert_exporter": "python",
   "pygments_lexer": "ipython3",
   "version": "3.13.1"
  }
 },
 "nbformat": 4,
 "nbformat_minor": 2
}
