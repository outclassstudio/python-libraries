{
 "cells": [
  {
   "cell_type": "markdown",
   "metadata": {},
   "source": [
    "## 11. 이미지 검출(윤곽선)"
   ]
  },
  {
   "cell_type": "code",
   "execution_count": null,
   "metadata": {},
   "outputs": [],
   "source": [
    "import cv2\n",
    "import numpy as np\n",
    "DEFAULT_IMAGE_PATH = \"../images/dog.jpg\"\n",
    "print(\"Setting complete.\")"
   ]
  },
  {
   "cell_type": "markdown",
   "metadata": {},
   "source": [
    "### 11-1. Canny Edge Detection\n",
    "- `cv2.Canny(img, min_thres_value, max_thres_value)`"
   ]
  },
  {
   "cell_type": "code",
   "execution_count": 5,
   "metadata": {},
   "outputs": [],
   "source": [
    "# 기본 구현\n",
    "img = cv2.imread(DEFAULT_IMAGE_PATH)\n",
    "canny = cv2.Canny(img, 50, 150)  \n",
    "cv2.imshow(\"img\", img)\n",
    "cv2.imshow(\"canny\", canny)\n",
    "cv2.waitKey(0)\n",
    "cv2.destroyAllWindows()"
   ]
  },
  {
   "cell_type": "code",
   "execution_count": 4,
   "metadata": {},
   "outputs": [],
   "source": [
    "# 트랙바 사용\n",
    "def empty(_):\n",
    "  pass\n",
    "\n",
    "img = cv2.imread(DEFAULT_IMAGE_PATH)\n",
    "\n",
    "name = \"Trackbar\"\n",
    "cv2.namedWindow(name)\n",
    "cv2.createTrackbar(\"threshold1\", name, 0, 255, empty)\n",
    "cv2.createTrackbar(\"threshold2\", name, 0, 255, empty)\n",
    "\n",
    "while True:\n",
    "  threshold1 = cv2.getTrackbarPos(\"threshold1\", name)\n",
    "  threshold2 = cv2.getTrackbarPos(\"threshold2\", name)\n",
    "  \n",
    "  canny = cv2.Canny(img, threshold1, threshold2)  \n",
    "  cv2.imshow(\"img\", img)\n",
    "  cv2.imshow(name, canny)\n",
    "\n",
    "  if cv2.waitKey(1) == ord(\"q\"):\n",
    "    break\n",
    "\n",
    "cv2.destroyAllWindows()"
   ]
  },
  {
   "cell_type": "markdown",
   "metadata": {},
   "source": [
    "### 11-2. 윤곽선(Contour)\n",
    "- 경계선을 연결한 선\n",
    "- 흑백 → 이진화 → 윤곽선검출 → 대상이미지에 윤곽선 그리기\n",
    "- `contours, hierachy = cv2.findContours(img, 윤곽선 찾는 모드, 윤곽선 찾을 때 사용하는 근사치 방법)`\n",
    "- `cv2.drawContours(target_img, 윤곽선 정보, 인덱스, 색깔, 두께)`\n",
    "  - 인덱스 -1 : 모든 윤곽선 그리기\n",
    "  - 원본 이미지를 직접 수정함 : 이미지 복사해서 사용"
   ]
  },
  {
   "cell_type": "code",
   "execution_count": 7,
   "metadata": {},
   "outputs": [],
   "source": [
    "img = cv2.imread(DEFAULT_IMAGE_PATH)\n",
    "target_img = img.copy()\n",
    "\n",
    "# 이미지 흑백으로 변환\n",
    "gray = cv2.cvtColor(target_img, cv2.COLOR_BGR2GRAY)\n",
    "\n",
    "# 이진화\n",
    "ret, otsu = cv2.threshold(gray, -1, 255, cv2.THRESH_BINARY | cv2.THRESH_OTSU)\n",
    "\n",
    "# 윤곽선 검출\n",
    "contours, hierachy = cv2.findContours(otsu, cv2.RETR_LIST, cv2.CHAIN_APPROX_NONE)\n",
    "\n",
    "# 윤곽선 그리기\n",
    "cv2.drawContours(target_img, contours, -1, (0,200,0), 1)\n",
    "\n",
    "cv2.imshow(\"img\", img)\n",
    "cv2.imshow(\"gray\", gray)\n",
    "cv2.imshow(\"otsu\", otsu)\n",
    "cv2.imshow(\"contour\", target_img)\n",
    "cv2.waitKey(0)\n",
    "cv2.destroyAllWindows()"
   ]
  },
  {
   "cell_type": "markdown",
   "metadata": {},
   "source": [
    "#### 11-2-1. 윤곽선 찾기 모드\n",
    "- `cv2.RETR_EXTERNAL` : 가장 외곽의 윤곽선만 찾음\n",
    "- `cv2.RETR_LIST` : 모든 윤곽선 찾음 (계층 정보 없음)\n",
    "- `cv2.RETR_TREE` : 모든 윤곽선 찾음 (계층 정보를 트리 구조로 생성)"
   ]
  },
  {
   "cell_type": "code",
   "execution_count": null,
   "metadata": {},
   "outputs": [],
   "source": [
    "img = cv2.imread(DEFAULT_IMAGE_PATH)\n",
    "target_img = img.copy()\n",
    "\n",
    "gray = cv2.cvtColor(target_img, cv2.COLOR_BGR2GRAY)\n",
    "ret, otsu = cv2.threshold(gray, -1, 255, cv2.THRESH_BINARY | cv2.THRESH_OTSU)\n",
    "# contours, hierachy = cv2.findContours(otsu, cv2.RETR_EXTERNAL, cv2.CHAIN_APPROX_NONE)\n",
    "# contours, hierachy = cv2.findContours(otsu, cv2.RETR_LIST, cv2.CHAIN_APPROX_NONE)\n",
    "contours, hierachy = cv2.findContours(otsu, cv2.RETR_TREE, cv2.CHAIN_APPROX_NONE)\n",
    "\n",
    "cv2.drawContours(target_img, contours, -1, (0,200,0), 2)\n",
    "\n",
    "cv2.imshow(\"img\", img)\n",
    "cv2.imshow(\"gray\", gray)\n",
    "cv2.imshow(\"otsu\", otsu)\n",
    "cv2.imshow(\"contour\", target_img)\n",
    "cv2.waitKey(0)\n",
    "cv2.destroyAllWindows()"
   ]
  },
  {
   "cell_type": "markdown",
   "metadata": {},
   "source": [
    "#### 11-2-2. 경계 사각형\n",
    "- 윤곽선의 경계면을 둘러싸는 사각형\n",
    "- `boundingRect()`"
   ]
  },
  {
   "cell_type": "code",
   "execution_count": 13,
   "metadata": {},
   "outputs": [],
   "source": [
    "img = cv2.imread(DEFAULT_IMAGE_PATH)\n",
    "target_img = img.copy()\n",
    "\n",
    "gray = cv2.cvtColor(target_img, cv2.COLOR_BGR2GRAY)\n",
    "ret, otsu = cv2.threshold(gray, -1, 255, cv2.THRESH_BINARY | cv2.THRESH_OTSU)\n",
    "contours, hierachy = cv2.findContours(otsu, cv2.RETR_LIST, cv2.CHAIN_APPROX_NONE)\n",
    "\n",
    "for cnt in contours:\n",
    "  x, y, width, height = cv2.boundingRect(cnt)\n",
    "  cv2.rectangle(target_img, (x, y), (x+width, y+height), (255,0,0), 1, cv2.LINE_AA)\n",
    "\n",
    "cv2.imshow(\"img\", img)\n",
    "cv2.imshow(\"contour\", target_img)\n",
    "cv2.waitKey(0)\n",
    "cv2.destroyAllWindows()"
   ]
  },
  {
   "cell_type": "markdown",
   "metadata": {},
   "source": [
    "#### 11-2-3. 면적\n",
    "- `contourArea()`"
   ]
  },
  {
   "cell_type": "code",
   "execution_count": 15,
   "metadata": {},
   "outputs": [],
   "source": [
    "img = cv2.imread(DEFAULT_IMAGE_PATH)\n",
    "target_img = img.copy()\n",
    "\n",
    "gray = cv2.cvtColor(target_img, cv2.COLOR_BGR2GRAY)\n",
    "ret, otsu = cv2.threshold(gray, -1, 255, cv2.THRESH_BINARY | cv2.THRESH_OTSU)\n",
    "contours, hierachy = cv2.findContours(otsu, cv2.RETR_LIST, cv2.CHAIN_APPROX_NONE)\n",
    "\n",
    "for cnt in contours:\n",
    "  if cv2.contourArea(cnt) > 1000:\n",
    "    x, y, width, height = cv2.boundingRect(cnt)\n",
    "    cv2.rectangle(target_img, (x, y), (x+width, y+height), (255,0,0), 1, cv2.LINE_AA)\n",
    "\n",
    "cv2.imshow(\"img\", img)\n",
    "cv2.imshow(\"contour\", target_img)\n",
    "cv2.waitKey(0)\n",
    "cv2.destroyAllWindows()"
   ]
  }
 ],
 "metadata": {
  "kernelspec": {
   "display_name": "cv_env",
   "language": "python",
   "name": "python3"
  },
  "language_info": {
   "codemirror_mode": {
    "name": "ipython",
    "version": 3
   },
   "file_extension": ".py",
   "mimetype": "text/x-python",
   "name": "python",
   "nbconvert_exporter": "python",
   "pygments_lexer": "ipython3",
   "version": "3.13.1"
  }
 },
 "nbformat": 4,
 "nbformat_minor": 2
}
