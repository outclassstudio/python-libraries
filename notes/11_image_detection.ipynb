{
 "cells": [
  {
   "cell_type": "markdown",
   "metadata": {},
   "source": [
    "## 11. 이미지 검출(윤곽선)"
   ]
  },
  {
   "cell_type": "code",
   "execution_count": 2,
   "metadata": {},
   "outputs": [
    {
     "name": "stdout",
     "output_type": "stream",
     "text": [
      "Setting complete.\n"
     ]
    }
   ],
   "source": [
    "import cv2\n",
    "import numpy as np\n",
    "DEFAULT_IMAGE_PATH = \"../images/dog.jpg\"\n",
    "print(\"Setting complete.\")"
   ]
  },
  {
   "cell_type": "markdown",
   "metadata": {},
   "source": [
    "### 11-1. Canny Edge Detection\n",
    "- `cv2.Canny(img, min_thres_value, max_thres_value)`"
   ]
  },
  {
   "cell_type": "code",
   "execution_count": 5,
   "metadata": {},
   "outputs": [],
   "source": [
    "# 기본 구현\n",
    "img = cv2.imread(DEFAULT_IMAGE_PATH)\n",
    "canny = cv2.Canny(img, 50, 150)  \n",
    "cv2.imshow(\"img\", img)\n",
    "cv2.imshow(\"canny\", canny)\n",
    "cv2.waitKey(0)\n",
    "cv2.destroyAllWindows()"
   ]
  },
  {
   "cell_type": "code",
   "execution_count": 4,
   "metadata": {},
   "outputs": [],
   "source": [
    "# 트랙바 사용\n",
    "def empty(_):\n",
    "  pass\n",
    "\n",
    "img = cv2.imread(DEFAULT_IMAGE_PATH)\n",
    "\n",
    "name = \"Trackbar\"\n",
    "cv2.namedWindow(name)\n",
    "cv2.createTrackbar(\"threshold1\", name, 0, 255, empty)\n",
    "cv2.createTrackbar(\"threshold2\", name, 0, 255, empty)\n",
    "\n",
    "while True:\n",
    "  threshold1 = cv2.getTrackbarPos(\"threshold1\", name)\n",
    "  threshold2 = cv2.getTrackbarPos(\"threshold2\", name)\n",
    "  \n",
    "  canny = cv2.Canny(img, threshold1, threshold2)  \n",
    "  cv2.imshow(\"img\", img)\n",
    "  cv2.imshow(name, canny)\n",
    "\n",
    "  if cv2.waitKey(1) == ord(\"q\"):\n",
    "    break\n",
    "\n",
    "cv2.destroyAllWindows()"
   ]
  },
  {
   "cell_type": "markdown",
   "metadata": {},
   "source": [
    "### 11-2. 윤곽선 \n",
    "- 경계선을 연결한 선"
   ]
  }
 ],
 "metadata": {
  "kernelspec": {
   "display_name": "cv_env",
   "language": "python",
   "name": "python3"
  },
  "language_info": {
   "codemirror_mode": {
    "name": "ipython",
    "version": 3
   },
   "file_extension": ".py",
   "mimetype": "text/x-python",
   "name": "python",
   "nbconvert_exporter": "python",
   "pygments_lexer": "ipython3",
   "version": "3.13.1"
  }
 },
 "nbformat": 4,
 "nbformat_minor": 2
}
