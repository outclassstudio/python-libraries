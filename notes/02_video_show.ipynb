{
 "cells": [
  {
   "cell_type": "markdown",
   "metadata": {},
   "source": [
    "## 02. 비디오 출력\n",
    "- 비디오는 여러 연속된 이미지를 재생하는 것\n",
    "- 여러 연속된 이미지중 하나의 이미지가 '프레임'\n",
    "- 따라서 비디오를 재생하기 위해 프레임을 반복해서 재생해야 함"
   ]
  },
  {
   "cell_type": "markdown",
   "metadata": {},
   "source": [
    "### 2-1. 비디오 파일 출력\n",
    "- `cv2.VideoCapture(\"파일경로\")` : 경로의 파일을 불러옴\n",
    "- `cap.isOpened()` : 파일이 열렸는지 확인\n",
    "- `cap.read()` : 불러온 파일을 읽어서 ret와 frame을 반환\n",
    "  - ret: 프레임이 있는지 체크, frame : 불러온 이미지 프레임(mat)\n",
    "- `ord(\"문자\")` : 문자를 ascii 코드로 변환해줌\n",
    "- `cap.release()` : 불러온 비디오 객체를 제거 함"
   ]
  },
  {
   "cell_type": "code",
   "execution_count": 3,
   "metadata": {},
   "outputs": [
    {
     "name": "stdout",
     "output_type": "stream",
     "text": [
      "사용자 입력에 의해 종료되었어요\n"
     ]
    }
   ],
   "source": [
    "import cv2\n",
    "\n",
    "cap = cv2.VideoCapture(\"../videos/dog.mp4\")\n",
    "\n",
    "while cap.isOpened():\n",
    "  ret, frame = cap.read() # ret: 성공여부, frame: 불러온 이미지\n",
    "\n",
    "  if not ret:\n",
    "    print(\"불러올 프레임이 없어요\")\n",
    "    break\n",
    "\n",
    "  cv2.imshow(\"dog\", frame)\n",
    "\n",
    "  if cv2.waitKey(33) == ord(\"q\"):\n",
    "    #! 영상을 불러올 때 waitKey의 ms에 따라 프레임 재생 속도가 달라짐\n",
    "    print(\"사용자 입력에 의해 종료되었어요\")\n",
    "    break\n",
    "\n",
    "cap.release()\n",
    "cv2.destroyAllWindows()"
   ]
  },
  {
   "cell_type": "markdown",
   "metadata": {},
   "source": [
    "### 2-2. 카메라 출력"
   ]
  },
  {
   "cell_type": "code",
   "execution_count": 4,
   "metadata": {},
   "outputs": [
    {
     "name": "stdout",
     "output_type": "stream",
     "text": [
      "사용자 입력에 의해 종료되었어요.\n"
     ]
    }
   ],
   "source": [
    "cap = cv2.VideoCapture(0) #! 장치의 0번째 카메라를 불러옴\n",
    "\n",
    "if not cap.isOpened():\n",
    "  print(\"카메라가 없어요\")\n",
    "  exit()\n",
    "\n",
    "while True: # 무한 반복\n",
    "  ret, frame = cap.read()\n",
    "\n",
    "  if not ret:\n",
    "    print(\"불러올 이미지가 없어요\")\n",
    "    break\n",
    "\n",
    "  cv2.imshow(\"My Camera\", frame)\n",
    "\n",
    "  if cv2.waitKey(1) == ord(\"q\"):\n",
    "    #! waitKey의 ms에 영상 속도가 영향을 받지 않음\n",
    "    print(\"사용자 입력에 의해 종료되었어요.\")\n",
    "    break\n",
    "\n",
    "cap.release()\n",
    "cv2.destroyAllWindows()"
   ]
  }
 ],
 "metadata": {
  "kernelspec": {
   "display_name": "cv_env",
   "language": "python",
   "name": "python3"
  },
  "language_info": {
   "codemirror_mode": {
    "name": "ipython",
    "version": 3
   },
   "file_extension": ".py",
   "mimetype": "text/x-python",
   "name": "python",
   "nbconvert_exporter": "python",
   "pygments_lexer": "ipython3",
   "version": "3.13.1"
  }
 },
 "nbformat": 4,
 "nbformat_minor": 2
}
