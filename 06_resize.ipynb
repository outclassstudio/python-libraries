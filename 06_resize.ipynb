{
 "cells": [
  {
   "cell_type": "markdown",
   "metadata": {},
   "source": [
    "## 06. 크기 조정"
   ]
  },
  {
   "cell_type": "code",
   "execution_count": 1,
   "metadata": {},
   "outputs": [],
   "source": [
    "import cv2"
   ]
  },
  {
   "cell_type": "markdown",
   "metadata": {},
   "source": [
    "### 6-1. 이미지 크기 조정"
   ]
  },
  {
   "cell_type": "markdown",
   "metadata": {},
   "source": [
    "#### 6-1-1. 고정 크기로 설정"
   ]
  },
  {
   "cell_type": "code",
   "execution_count": 3,
   "metadata": {},
   "outputs": [],
   "source": [
    "img = cv2.imread(\"./images/dog.jpg\")\n",
    "# (가로, 세로)의 지정된 크기로 크기 변경경\n",
    "dst = cv2.resize(img, (320,240))\n",
    "\n",
    "cv2.imshow(\"img\", img) # 원본 이미지\n",
    "cv2.imshow(\"resize\", dst) # 리사이즈한 이미지\n",
    "\n",
    "cv2.waitKey(0)\n",
    "cv2.destroyAllWindows()"
   ]
  },
  {
   "cell_type": "markdown",
   "metadata": {},
   "source": [
    "#### 6-1-2. 비율로 설정"
   ]
  },
  {
   "cell_type": "code",
   "execution_count": 4,
   "metadata": {},
   "outputs": [],
   "source": [
    "img = cv2.imread(\"./images/dog.jpg\")\n",
    "# fx, fy 값으로 원본에서 비율 조정\n",
    "dst = cv2.resize(img, None, fx=0.5, fy=0.5)\n",
    "\n",
    "cv2.imshow(\"img\", img) # 원본 이미지\n",
    "cv2.imshow(\"resize\", dst) # 리사이즈한 이미지\n",
    "\n",
    "cv2.waitKey(0)\n",
    "cv2.destroyAllWindows()"
   ]
  },
  {
   "cell_type": "markdown",
   "metadata": {},
   "source": [
    "#### 6-1-3. 보간법(Interpolation)\n",
    "- 보간법 : 이미지를 조정할 때 생기는 픽셀 사이의 빈 공간을 채우는 방법\n",
    "- `cv2.INTER_AREA` : 크기 줄일 때 사용\n",
    "- `cv2.INTER_LINEAR` : 크기 늘릴 때 사용(기본값)\n",
    "- `cv2.INTER_CUBIC` : 크기 늘릴 때 사용(속도 느림, 퀄리티 좋음)"
   ]
  },
  {
   "cell_type": "code",
   "execution_count": 8,
   "metadata": {},
   "outputs": [],
   "source": [
    "# 보간법 적용하여 축소\n",
    "img = cv2.imread(\"./images/dog.jpg\")\n",
    "\n",
    "dst = cv2.resize(img, None, fx=0.5, fy=0.5, interpolation=cv2.INTER_AREA)\n",
    "cv2.imshow(\"Interpolation2\", dst)\n",
    "\n",
    "cv2.waitKey(0) \n",
    "cv2.destroyAllWindows()"
   ]
  },
  {
   "cell_type": "code",
   "execution_count": 12,
   "metadata": {},
   "outputs": [],
   "source": [
    "# 보간법 적용하여 확대\n",
    "img = cv2.imread(\"./images/dog.jpg\")\n",
    "\n",
    "# 기본값\n",
    "dst_1 = cv2.resize(img, None, fx=2.5, fy=2.5, interpolation=cv2.INTER_LINEAR)\n",
    "# Cubic\n",
    "dst_2 = cv2.resize(img, None, fx=2.5, fy=2.5, interpolation=cv2.INTER_CUBIC)\n",
    "\n",
    "cv2.imshow(\"Interpolation1\", dst_1)\n",
    "cv2.imshow(\"Interpolation2\", dst_2)\n",
    "\n",
    "cv2.waitKey(0) \n",
    "cv2.destroyAllWindows()"
   ]
  },
  {
   "cell_type": "markdown",
   "metadata": {},
   "source": [
    "### 6-2. 비디오 크기 조정"
   ]
  },
  {
   "cell_type": "markdown",
   "metadata": {},
   "source": [
    "#### 6-2-1. 고정 크기로 설정"
   ]
  },
  {
   "cell_type": "code",
   "execution_count": 6,
   "metadata": {},
   "outputs": [],
   "source": [
    "cap = cv2.VideoCapture(\"./videos/dog.mp4\")\n",
    "fps = cap.get(cv2.CAP_PROP_FPS)\n",
    "\n",
    "while cap.isOpened():\n",
    "  ret, frame = cap.read()\n",
    "\n",
    "  if not ret:\n",
    "    break;\n",
    "  \n",
    "  # resize한 frame이미지를 출력\n",
    "  frame_resized = cv2.resize(frame, (135,240))\n",
    "  cv2.imshow(\"Video\", frame_resized)\n",
    "\n",
    "  if cv2.waitKey(int(1000/fps)) == ord(\"q\"):\n",
    "    break\n",
    "\n",
    "cap.release()\n",
    "cv2.destroyAllWindows()"
   ]
  },
  {
   "cell_type": "markdown",
   "metadata": {},
   "source": [
    "#### 6-2-2. 비율로 설정"
   ]
  },
  {
   "cell_type": "code",
   "execution_count": 9,
   "metadata": {},
   "outputs": [],
   "source": [
    "cap = cv2.VideoCapture(\"./videos/dog.mp4\")\n",
    "fps = cap.get(cv2.CAP_PROP_FPS)\n",
    "\n",
    "while cap.isOpened():\n",
    "  ret, frame = cap.read()\n",
    "\n",
    "  if not ret:\n",
    "    break;\n",
    "  \n",
    "  # resize한 frame이미지를 출력\n",
    "  frame_resized = cv2.resize(frame, None, fx=1.5, fy=1.5, interpolation=cv2.INTER_CUBIC)\n",
    "  cv2.imshow(\"Video\", frame_resized)\n",
    "\n",
    "  if cv2.waitKey(int(1000/fps)) == ord(\"q\"):\n",
    "    break\n",
    "\n",
    "cap.release()\n",
    "cv2.destroyAllWindows()"
   ]
  }
 ],
 "metadata": {
  "kernelspec": {
   "display_name": "cv_env",
   "language": "python",
   "name": "python3"
  },
  "language_info": {
   "codemirror_mode": {
    "name": "ipython",
    "version": 3
   },
   "file_extension": ".py",
   "mimetype": "text/x-python",
   "name": "python",
   "nbconvert_exporter": "python",
   "pygments_lexer": "ipython3",
   "version": "3.13.1"
  }
 },
 "nbformat": 4,
 "nbformat_minor": 2
}
