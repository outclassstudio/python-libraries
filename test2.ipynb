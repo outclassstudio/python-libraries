{
 "cells": [
  {
   "cell_type": "code",
   "execution_count": 46,
   "metadata": {},
   "outputs": [
    {
     "name": "stdout",
     "output_type": "stream",
     "text": [
      "setting complete\n"
     ]
    }
   ],
   "source": [
    "import cv2\n",
    "import numpy as np\n",
    "DEFAUL_IMAGE_PATH = \"./images/dog.jpg\"\n",
    "DEFAUL_VIDEO_PATH = \"./videos/dog.mp4\"\n",
    "print(\"setting complete\")"
   ]
  },
  {
   "cell_type": "code",
   "execution_count": 3,
   "metadata": {},
   "outputs": [],
   "source": [
    "img = cv2.imread(DEFAUL_IMAGE_PATH)\n",
    "cv2.imshow(\"img\", img)\n",
    "cv2.waitKey(0)\n",
    "cv2.destroyAllWindows()"
   ]
  },
  {
   "cell_type": "code",
   "execution_count": 6,
   "metadata": {},
   "outputs": [],
   "source": [
    "cap = cv2.VideoCapture(DEFAUL_VIDEO_PATH)\n",
    "fps = cap.get(cv2.CAP_PROP_FPS)\n",
    "\n",
    "while cap.isOpened():\n",
    "  ret, frame = cap.read()\n",
    "\n",
    "  if not ret:\n",
    "    break\n",
    "\n",
    "  cv2.imshow(\"video\", frame)\n",
    "\n",
    "  if cv2.waitKey(int(1000/fps)) == ord(\"q\"):\n",
    "    break\n",
    "\n",
    "cap.release()\n",
    "cv2.destroyAllWindows()"
   ]
  },
  {
   "cell_type": "code",
   "execution_count": 7,
   "metadata": {},
   "outputs": [],
   "source": [
    "cap = cv2.VideoCapture(0)\n",
    "\n",
    "if not cap.isOpened():\n",
    "  exit()\n",
    "\n",
    "while True:\n",
    "  ret, frame = cap.read()\n",
    "\n",
    "  if not ret:\n",
    "    break\n",
    "\n",
    "  cv2.imshow(\"cam\", frame)\n",
    "\n",
    "  if cv2.waitKey(1) == ord(\"q\"):\n",
    "    break\n",
    "\n",
    "cap.release()\n",
    "cv2.destroyAllWindows()"
   ]
  },
  {
   "cell_type": "code",
   "execution_count": 20,
   "metadata": {},
   "outputs": [],
   "source": [
    "canvas = np.zeros((460,640,3),dtype=np.uint8)\n",
    "canvas[100:200, 300:400] = (255,255,255)\n",
    "cv2.line(canvas, (200,250), (400,450),(255,255,0), 10, cv2.LINE_AA)\n",
    "cv2.circle(canvas, (350,300), 50,(255,255,0), 10, cv2.LINE_AA)\n",
    "cv2.circle(canvas, (50,100), 50,(255,0,255), cv2.FILLED, cv2.LINE_AA)\n",
    "cv2.rectangle(canvas, (300,20), (350,120),(255,0,255), cv2.FILLED, cv2.LINE_AA)\n",
    "mat = np.array([[[10,100],[50,200],[90,100]]])\n",
    "cv2.polylines(canvas, mat, True, (0,255,255), 10, cv2.LINE_AA)\n",
    "mat_2 = np.array([[[110,100],[150,200],[190,100]]])\n",
    "cv2.fillPoly(canvas, mat_2, (0,255,255), cv2.LINE_AA)\n",
    "cv2.imshow(\"canvas\", canvas)\n",
    "cv2.waitKey(0)\n",
    "cv2.destroyAllWindows()"
   ]
  },
  {
   "cell_type": "code",
   "execution_count": null,
   "metadata": {},
   "outputs": [],
   "source": [
    "canvas = np.zeros((460,640,3),dtype=np.uint8)\n",
    "cv2.putText(canvas,\"I like chicken\", (50,50), cv2.FONT_HERSHEY_PLAIN, 1, (255,255,255),1)\n",
    "cv2.imshow(\"text\", canvas)\n",
    "cv2.waitKey(0)\n",
    "cv2.destroyAllWindows()"
   ]
  },
  {
   "cell_type": "code",
   "execution_count": null,
   "metadata": {},
   "outputs": [],
   "source": [
    "img = cv2.imread(DEFAUL_IMAGE_PATH)\n",
    "cv2.imwrite(\"new.jpg\",img)"
   ]
  },
  {
   "cell_type": "code",
   "execution_count": 29,
   "metadata": {},
   "outputs": [],
   "source": [
    "video = cv2.VideoCapture(DEFAUL_VIDEO_PATH)\n",
    "\n",
    "fourcc = cv2.VideoWriter_fourcc(*\"H264\")\n",
    "fps = video.get(cv2.CAP_PROP_FPS)\n",
    "width = round(video.get(cv2.CAP_PROP_FRAME_WIDTH))\n",
    "height = round(video.get(cv2.CAP_PROP_FRAME_HEIGHT))\n",
    "out = cv2.VideoWriter(\"new.mp4\",fourcc,fps,(width,height))\n",
    "\n",
    "while video.isOpened():\n",
    "  ret, frame = video.read()\n",
    "\n",
    "  if not ret:\n",
    "    break\n",
    "\n",
    "  out.write(frame)\n",
    "  cv2.imshow(\"write\", frame)\n",
    "\n",
    "  if cv2.waitKey(int(1000/fps)) == ord(\"q\"):\n",
    "    break\n",
    "\n",
    "out.release()\n",
    "video.release()\n",
    "cv2.destroyAllWindows()"
   ]
  },
  {
   "cell_type": "code",
   "execution_count": 34,
   "metadata": {},
   "outputs": [],
   "source": [
    "img = cv2.imread(DEFAUL_IMAGE_PATH)\n",
    "\n",
    "dst = cv2.resize(img, None, fx=3, fy=3, interpolation=cv2.INTER_CUBIC)\n",
    "cv2.imshow(\"img\", dst)\n",
    "cv2.waitKey(0)\n",
    "cv2.destroyAllWindows()"
   ]
  },
  {
   "cell_type": "code",
   "execution_count": 45,
   "metadata": {},
   "outputs": [],
   "source": [
    "img = cv2.imread(DEFAUL_IMAGE_PATH)\n",
    "cropped = img[100:200, 300:400]\n",
    "img[150:250, 350:450] = cropped\n",
    "cv2.imshow(\"img\",img)\n",
    "cv2.waitKey()\n",
    "cv2.destroyAllWindows()"
   ]
  },
  {
   "cell_type": "code",
   "execution_count": 37,
   "metadata": {},
   "outputs": [],
   "source": [
    "img = cv2.imread(DEFAUL_IMAGE_PATH)\n",
    "dst = cv2.flip(img,-1)\n",
    "cv2.imshow(\"img1\",img)\n",
    "cv2.imshow(\"img2\",dst)\n",
    "cv2.waitKey()\n",
    "cv2.destroyAllWindows()"
   ]
  },
  {
   "cell_type": "code",
   "execution_count": 38,
   "metadata": {},
   "outputs": [],
   "source": [
    "img = cv2.imread(DEFAUL_IMAGE_PATH)\n",
    "dst = cv2.rotate(img, cv2.ROTATE_90_CLOCKWISE)\n",
    "cv2.imshow(\"rotate\",dst)\n",
    "cv2.waitKey()\n",
    "cv2.destroyAllWindows()"
   ]
  },
  {
   "cell_type": "code",
   "execution_count": 39,
   "metadata": {},
   "outputs": [],
   "source": [
    "img = cv2.imread(DEFAUL_IMAGE_PATH)\n",
    "dst = cv2.cvtColor(img, cv2.COLOR_BGR2GRAY)\n",
    "cv2.imshow(\"color\",dst)\n",
    "cv2.waitKey()\n",
    "cv2.destroyAllWindows()"
   ]
  },
  {
   "cell_type": "code",
   "execution_count": 41,
   "metadata": {},
   "outputs": [],
   "source": [
    "img = cv2.imread(DEFAUL_IMAGE_PATH)\n",
    "sigma = 4\n",
    "dst = cv2.GaussianBlur(img, (0,0), sigma)\n",
    "cv2.imshow(\"blur\",dst)\n",
    "cv2.waitKey()\n",
    "cv2.destroyAllWindows()"
   ]
  },
  {
   "cell_type": "code",
   "execution_count": 51,
   "metadata": {},
   "outputs": [
    {
     "ename": "error",
     "evalue": "OpenCV(4.10.0) D:\\a\\opencv-python\\opencv-python\\opencv\\modules\\imgproc\\src\\imgwarp.cpp:3400: error: (-215:Assertion failed) (M0.type() == CV_32F || M0.type() == CV_64F) && M0.rows == 3 && M0.cols == 3 in function 'cv::warpPerspective'\n",
     "output_type": "error",
     "traceback": [
      "\u001b[1;31m---------------------------------------------------------------------------\u001b[0m",
      "\u001b[1;31merror\u001b[0m                                     Traceback (most recent call last)",
      "Cell \u001b[1;32mIn[51], line 10\u001b[0m\n\u001b[0;32m      8\u001b[0m mat \u001b[38;5;241m=\u001b[39m cv2\u001b[38;5;241m.\u001b[39mperspectiveTransform(src,dst)\n\u001b[0;32m      9\u001b[0m \u001b[38;5;66;03m# 매트릭스로 이미지 생성\u001b[39;00m\n\u001b[1;32m---> 10\u001b[0m result \u001b[38;5;241m=\u001b[39m \u001b[43mcv2\u001b[49m\u001b[38;5;241;43m.\u001b[39;49m\u001b[43mwarpPerspective\u001b[49m\u001b[43m(\u001b[49m\u001b[43mimg\u001b[49m\u001b[43m,\u001b[49m\u001b[43m \u001b[49m\u001b[43mmat\u001b[49m\u001b[43m,\u001b[49m\u001b[43m \u001b[49m\u001b[43m(\u001b[49m\u001b[43mwidth\u001b[49m\u001b[43m,\u001b[49m\u001b[43m \u001b[49m\u001b[43mheight\u001b[49m\u001b[43m)\u001b[49m\u001b[43m)\u001b[49m\n\u001b[0;32m     11\u001b[0m cv2\u001b[38;5;241m.\u001b[39mimshow(\u001b[38;5;124m\"\u001b[39m\u001b[38;5;124mresult\u001b[39m\u001b[38;5;124m\"\u001b[39m, result)\n\u001b[0;32m     12\u001b[0m cv2\u001b[38;5;241m.\u001b[39mwaitKey(\u001b[38;5;241m0\u001b[39m)\n",
      "\u001b[1;31merror\u001b[0m: OpenCV(4.10.0) D:\\a\\opencv-python\\opencv-python\\opencv\\modules\\imgproc\\src\\imgwarp.cpp:3400: error: (-215:Assertion failed) (M0.type() == CV_32F || M0.type() == CV_64F) && M0.rows == 3 && M0.cols == 3 in function 'cv::warpPerspective'\n"
     ]
    }
   ],
   "source": [
    "img = cv2.imread(\"./images/card.jpg\")\n",
    "\n",
    "width, height = 360, 240\n",
    "# 선택 어레이\n",
    "src = np.array([[128,1328],[855,1289],[935,1550],[135,1601]], dtype=np.float32)\n",
    "dst = np.array([[0,0],[width,0],[width, height],[0, height]], dtype=np.float32)\n",
    "# 매트릭스 생성\n",
    "mat = cv2.perspectiveTransform(src,dst)\n",
    "# 매트릭스로 이미지 생성\n",
    "result = cv2.warpPerspective(img, mat, (width, height))\n",
    "cv2.imshow(\"result\", result)\n",
    "cv2.waitKey(0)\n",
    "cv2.destroyAllWindows()"
   ]
  }
 ],
 "metadata": {
  "kernelspec": {
   "display_name": "cv_env",
   "language": "python",
   "name": "python3"
  },
  "language_info": {
   "codemirror_mode": {
    "name": "ipython",
    "version": 3
   },
   "file_extension": ".py",
   "mimetype": "text/x-python",
   "name": "python",
   "nbconvert_exporter": "python",
   "pygments_lexer": "ipython3",
   "version": "3.13.1"
  }
 },
 "nbformat": 4,
 "nbformat_minor": 2
}
