{
 "cells": [
  {
   "cell_type": "markdown",
   "metadata": {},
   "source": [
    "## 미니 프로젝트1 : 반자동 문서 스캐너"
   ]
  },
  {
   "cell_type": "code",
   "execution_count": null,
   "metadata": {},
   "outputs": [],
   "source": [
    "# setting\n",
    "import cv2\n",
    "import numpy as np\n",
    "DEFAUL_IMAGE_PATH = \"./images/card.jpg\"\n",
    "DEFAUL_VIDEO_PATH = \"./videos/dog.mp4\"\n",
    "print(\"setting complete\")"
   ]
  },
  {
   "cell_type": "markdown",
   "metadata": {},
   "source": [
    "### 1. 마우스 이벤트 등록"
   ]
  },
  {
   "cell_type": "code",
   "execution_count": null,
   "metadata": {},
   "outputs": [],
   "source": [
    "img = cv2.imread(DEFAUL_IMAGE_PATH)\n",
    "\n",
    "def mouse_handler(event, x, y, flags, param):\n",
    "  if event == cv2.EVENT_LBUTTONDOWN:\n",
    "    print(\"왼쪽 클릭?\")\n",
    "\n",
    "# img라는 이름의 윈도우를 미리 생성 -> 여기에 마우스 이벤트 핸들러 적용\n",
    "cv2.namedWindow(\"img\") \n",
    "cv2.setMouseCallback(\"img\", mouse_handler)\n",
    "dst = cv2.resize(img, None, fx=0.5, fy=0.5)\n",
    "cv2.imshow(\"img\", dst)\n",
    "cv2.waitKey(0)\n",
    "cv2.destroyAllWindows()"
   ]
  },
  {
   "cell_type": "markdown",
   "metadata": {},
   "source": [
    "### 프로젝트"
   ]
  },
  {
   "cell_type": "code",
   "execution_count": 28,
   "metadata": {},
   "outputs": [],
   "source": [
    "src_img = cv2.imread(DEFAUL_IMAGE_PATH)\n",
    "dst = cv2.resize(src_img, None, fx=0.5, fy=0.5)\n",
    "point_list = []\n",
    "\n",
    "def show_result():\n",
    "  width, height = 320, 180\n",
    "  src = np.float32(point_list)\n",
    "  target = np.array([[0,0],[width,0],[width, height],[0, height]], dtype=np.float32)\n",
    "  mat = cv2.getPerspectiveTransform(src, target)\n",
    "  result = cv2.warpPerspective(dst, mat, (width, height))\n",
    "  cv2.imshow(\"result\", result)\n",
    "\n",
    "drawing = False\n",
    "def mouse_handler(event, x, y, flags, param):\n",
    "  global drawing\n",
    "  coppied = dst.copy()\n",
    "\n",
    "  if event == cv2.EVENT_LBUTTONDOWN:\n",
    "    drawing = True\n",
    "    point_list.append((x,y))\n",
    "\n",
    "  if drawing:\n",
    "    prev_point = None\n",
    "    for point in point_list:\n",
    "      cv2.circle(coppied, point, 7, (0,255,255), cv2.FILLED, cv2.LINE_AA)\n",
    "      if prev_point:\n",
    "        cv2.line(coppied, prev_point, point, (0,255,255), 2, cv2.LINE_AA)\n",
    "      prev_point = point\n",
    "    \n",
    "    next_point = (x,y)\n",
    "    if len(point_list) == 4:\n",
    "      show_result()\n",
    "      next_point = point_list[0]\n",
    "\n",
    "    cv2.line(coppied, point_list[-1], next_point, (0,255,255), 2, cv2.LINE_AA)\n",
    "\n",
    "  cv2.imshow(\"img\", coppied)\n",
    "\n",
    "# img라는 이름의 윈도우를 미리 생성 -> 여기에 마우스 이벤트 핸들러 적용\n",
    "cv2.namedWindow(\"img\") \n",
    "cv2.setMouseCallback(\"img\", mouse_handler)\n",
    "cv2.imshow(\"img\", dst)\n",
    "cv2.waitKey(0)\n",
    "cv2.destroyAllWindows()"
   ]
  }
 ],
 "metadata": {
  "kernelspec": {
   "display_name": "cv_env",
   "language": "python",
   "name": "python3"
  },
  "language_info": {
   "codemirror_mode": {
    "name": "ipython",
    "version": 3
   },
   "file_extension": ".py",
   "mimetype": "text/x-python",
   "name": "python",
   "nbconvert_exporter": "python",
   "pygments_lexer": "ipython3",
   "version": "3.13.1"
  }
 },
 "nbformat": 4,
 "nbformat_minor": 2
}
