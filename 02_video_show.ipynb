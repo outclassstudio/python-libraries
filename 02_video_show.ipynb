{
 "cells": [
  {
   "cell_type": "markdown",
   "metadata": {},
   "source": [
    "## 02. 비디오 출력\n",
    "- 비디오는 \"연속된 이미지를 출력하는 것\"\n",
    "- 비디오의 연속된 이미지 하나 하나를 \"프레임\"이라고 부름\n",
    "- 따라서, 비디오를 출력하기 위해서는 비디오의 프레임을 반복문을 통해 출력 함"
   ]
  },
  {
   "cell_type": "markdown",
   "metadata": {},
   "source": [
    "### 2.1 비디오 파일 출력 하기\n",
    "- `cv2.VideoCapture(\"파일명\")` : 비디오 파일을 불러옴\n",
    "- `비디오.isOpened()` : 비디오 파일이 열렸는지 확인\n",
    "- `비디오.read()` : 비디오 리드 성공여부, 프레임을 반환\n",
    "  - `ret, frame = 비디오.read()`\n",
    "- `ord(\"문자열\")` : 문자열을 ascii코드로 변환\n",
    "- `cap.release()` : 자원 해제"
   ]
  },
  {
   "cell_type": "code",
   "execution_count": null,
   "metadata": {},
   "outputs": [],
   "source": [
    "import cv2\n",
    "\n",
    "cap = cv2.VideoCapture(\"dog.mp4\")\n",
    "\n",
    "while cap.isOpened(): # 비디오 파일이 열렸는가?\n",
    "  ret, frame = cap.read() # ret: 성공여부, frame: 받아온 이미지(프레임)\n",
    "  \n",
    "  if not ret:\n",
    "    print(\"더 이상 가져올 프레임이 없어요\")\n",
    "    break\n",
    "\n",
    "  cv2.imshow(\"dog video\", frame)\n",
    "  \n",
    "  if cv2.waitKey(33) == ord(\"q\"): \n",
    "    #! waitKey의 초에 따라 프레임을 읽는 속도가 달라짐\n",
    "    print(\"사용자 입력에 의해 종료합니다.\")\n",
    "    break\n",
    "\n",
    "cap.release()\n",
    "cv2.destroyAllWindows()"
   ]
  },
  {
   "cell_type": "markdown",
   "metadata": {},
   "source": [
    "### 2.2 카메라로 비디오 출력하기"
   ]
  },
  {
   "cell_type": "code",
   "execution_count": null,
   "metadata": {},
   "outputs": [],
   "source": [
    "cap = cv2.VideoCapture(0) # 0번째 카메라 장치\n",
    "\n",
    "if not cap.isOpened():\n",
    "  print(\"카메라 장치가 없어요\")\n",
    "  exit()\n",
    "\n",
    "while True:\n",
    "  ret, frame = cap.read()\n",
    "\n",
    "  if not ret:\n",
    "    print(\"화면을 받아오는데 문제가 생겼어요\")\n",
    "    break\n",
    "\n",
    "  cv2.imshow(\"camera\", frame)\n",
    "\n",
    "  if cv2.waitKey(1) == ord(\"q\"): #? 1ms로 입력해도 속도에 영향을 주지는X\n",
    "    print(\"사용자 입력에 의해 종료합니다.\")\n",
    "    break\n",
    "\n",
    "cap.release()\n",
    "cv2.destroyAllWindows\n"
   ]
  }
 ],
 "metadata": {
  "kernelspec": {
   "display_name": "cv_env",
   "language": "python",
   "name": "python3"
  },
  "language_info": {
   "codemirror_mode": {
    "name": "ipython",
    "version": 3
   },
   "file_extension": ".py",
   "mimetype": "text/x-python",
   "name": "python",
   "nbconvert_exporter": "python",
   "pygments_lexer": "ipython3",
   "version": "3.13.1"
  }
 },
 "nbformat": 4,
 "nbformat_minor": 2
}
