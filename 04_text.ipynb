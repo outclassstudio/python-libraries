{
 "cells": [
  {
   "cell_type": "markdown",
   "metadata": {},
   "source": [
    "## 04. 텍스트\n",
    "### 글꼴 종류\n",
    "- `cv2.FONT_HERSHEY_SIMPLEX` : 보통 크기의 산 세리프(sans-serif) 글꼴\n",
    "- `cv2.FONT_HERSHEY_PLAIN` : 작은 크기의 산 세리프 글꼴\n",
    "- `cv2.FONT_HERSHEY_SCRIPT_SIMPLEX` : 필기체 스타일의 글꼴\n",
    "- `cv2.FONT_HERSHEY_TRIPLEX` :  보통 크기의 세리프 글꼴\n",
    "- `cv2.FONT_ITALIC` : 기울임 효과과"
   ]
  },
  {
   "cell_type": "code",
   "execution_count": null,
   "metadata": {},
   "outputs": [],
   "source": [
    "# pillow 설치 : PIL(Python Image Library)로 import\n",
    "pip install pillow"
   ]
  },
  {
   "cell_type": "code",
   "execution_count": null,
   "metadata": {},
   "outputs": [],
   "source": [
    "# 세팅\n",
    "import cv2\n",
    "import numpy as np\n",
    "\n",
    "print(\"Set up complete.\")"
   ]
  },
  {
   "cell_type": "markdown",
   "metadata": {},
   "source": [
    "### 4-1. 텍스트 기본"
   ]
  },
  {
   "cell_type": "code",
   "execution_count": 11,
   "metadata": {},
   "outputs": [],
   "source": [
    "canvas = np.zeros((460, 640, 3), dtype=np.uint8)\n",
    "\n",
    "SCALE = 2\n",
    "COLOR = (255, 255, 255)\n",
    "THICKNESS = 2\n",
    "\n",
    "cv2.putText(canvas, \"Write the text.\", (20,100), cv2.FONT_HERSHEY_SIMPLEX, SCALE, COLOR, THICKNESS)\n",
    "cv2.putText(canvas, \"Write the text.\", (20,160), cv2.FONT_HERSHEY_PLAIN, SCALE, COLOR, THICKNESS)\n",
    "cv2.putText(canvas, \"Write the text.\", (20,220), cv2.FONT_HERSHEY_SCRIPT_SIMPLEX, SCALE, COLOR, THICKNESS)\n",
    "cv2.putText(canvas, \"Write the text.\", (20,280), cv2.FONT_HERSHEY_TRIPLEX, SCALE, COLOR, THICKNESS)\n",
    "cv2.putText(canvas, \"Write the text.\", (20,340), cv2.FONT_HERSHEY_TRIPLEX | cv2.FONT_ITALIC, SCALE, COLOR, THICKNESS)\n",
    "cv2.imshow(\"Text\", canvas)\n",
    "cv2.waitKey(0)\n",
    "cv2.destroyAllWindows()"
   ]
  },
  {
   "cell_type": "markdown",
   "metadata": {},
   "source": [
    "### 4-2. 한글 우회"
   ]
  },
  {
   "cell_type": "code",
   "execution_count": 15,
   "metadata": {},
   "outputs": [],
   "source": [
    "from PIL import ImageFont, ImageDraw, Image\n",
    "\n",
    "def myPutText(plate, text, pos, font_size, font_color):\n",
    "  img_pil = Image.fromarray(plate)\n",
    "  draw = ImageDraw.Draw(img_pil)\n",
    "  font = ImageFont.truetype(\"fonts/gulim.ttc\", font_size)\n",
    "  draw.text(pos, text, font=font, fill=font_color)\n",
    "  return np.array(img_pil)\n",
    "\n",
    "canvas = np.zeros((460, 640, 3), dtype=np.uint8)\n",
    "\n",
    "FONT_SIZE = 30\n",
    "COLOR = (255, 255, 255)\n",
    "THICKNESS = 1\n",
    "\n",
    "img = myPutText(canvas, \"한글 입력\", (20,100), FONT_SIZE, COLOR)\n",
    "\n",
    "cv2.imshow(\"Text\", img)\n",
    "cv2.waitKey(0)\n",
    "cv2.destroyAllWindows()"
   ]
  }
 ],
 "metadata": {
  "kernelspec": {
   "display_name": "cv_env",
   "language": "python",
   "name": "python3"
  },
  "language_info": {
   "codemirror_mode": {
    "name": "ipython",
    "version": 3
   },
   "file_extension": ".py",
   "mimetype": "text/x-python",
   "name": "python",
   "nbconvert_exporter": "python",
   "pygments_lexer": "ipython3",
   "version": "3.13.1"
  }
 },
 "nbformat": 4,
 "nbformat_minor": 2
}
